{
 "cells": [
  {
   "attachments": {},
   "cell_type": "markdown",
   "metadata": {},
   "source": [
    "# Citeproc Writer\n",
    "\n",
    "This notebook shows how to generate a metadata in [Citeproc JSON](https://citeproc-js.readthedocs.io/en/latest/csl-json/markup.html#introduction) format. Citeproc JSON is used by the [Citation Styles Language](https://citationstyles.org/) to generate formatted citations and bibliographies."
   ]
  },
  {
   "attachments": {},
   "cell_type": "markdown",
   "metadata": {},
   "source": [
    "[Download Notebook](https://github.com/front-matter/commonmeta-py/blob/main/docs/writers/citeproc_writer.ipynb)"
   ]
  },
  {
   "attachments": {},
   "cell_type": "markdown",
   "metadata": {},
   "source": [
    "As with all commonmeta-py Writer notebooks, we start by fetching metadata, in this example a journal article via its Crossref DOI, and convert them to the internal commonmeta format."
   ]
  },
  {
   "cell_type": "code",
   "execution_count": 2,
   "metadata": {},
   "outputs": [
    {
     "name": "stdout",
     "output_type": "stream",
     "text": [
      "findable\n"
     ]
    }
   ],
   "source": [
    "from commonmeta import Metadata\n",
    "\n",
    "# Fetch metadata from a DOI\n",
    "string = '10.7554/elife.01567'\n",
    "metadata = Metadata(string)\n",
    "\n",
    "# Check that metadata was fetched successfully\n",
    "print(metadata.state)"
   ]
  },
  {
   "attachments": {},
   "cell_type": "markdown",
   "metadata": {},
   "source": [
    "## Generate Citeproc JSON\n",
    "\n",
    "We can now generate Citeproc JSON from the metadata in commonmeta format. "
   ]
  },
  {
   "cell_type": "code",
   "execution_count": 3,
   "metadata": {},
   "outputs": [
    {
     "name": "stdout",
     "output_type": "stream",
     "text": [
      "{\n",
      "    \"type\": \"article-journal\",\n",
      "    \"id\": \"https://doi.org/10.7554/elife.01567\",\n",
      "    \"DOI\": \"10.7554/elife.01567\",\n",
      "    \"URL\": \"https://elifesciences.org/articles/01567\",\n",
      "    \"categories\": [\n",
      "        \"General Immunology and Microbiology\",\n",
      "        \"General Biochemistry, Genetics and Molecular Biology\",\n",
      "        \"General Medicine\",\n",
      "        \"General Neuroscience\"\n",
      "    ],\n",
      "    \"language\": \"en\",\n",
      "    \"author\": [\n",
      "        {\n",
      "            \"family\": \"Sankar\",\n",
      "            \"given\": \"Martial\"\n",
      "        },\n",
      "        {\n",
      "            \"family\": \"Nieminen\",\n",
      "            \"given\": \"Kaisa\"\n",
      "        },\n",
      "        {\n",
      "            \"family\": \"Ragni\",\n",
      "            \"given\": \"Laura\"\n",
      "        },\n",
      "        {\n",
      "            \"family\": \"Xenarios\",\n",
      "            \"given\": \"Ioannis\"\n",
      "        },\n",
      "        {\n",
      "            \"family\": \"Hardtke\",\n",
      "            \"given\": \"Christian S\"\n",
      "        }\n",
      "    ],\n",
      "    \"contributor\": [],\n",
      "    \"issued\": {\n",
      "        \"date-parts\": [\n",
      "            [\n",
      "                2014,\n",
      "                2,\n",
      "                11\n",
      "            ]\n",
      "        ]\n",
      "    },\n",
      "    \"abstract\": \"Among various advantages, their small size makes model organisms preferred subjects of investigation. Yet, even in model systems detailed analysis of numerous developmental processes at cellular level is severely hampered by their scale. For instance, secondary growth of Arabidopsis hypocotyls creates a radial pattern of highly specialized tissues that comprises several thousand cells starting from a few dozen. This dynamic process is difficult to follow because of its scale and because it can only be investigated invasively, precluding comprehensive understanding of the cell proliferation, differentiation, and patterning events involved. To overcome such limitation, we established an automated quantitative histology approach. We acquired hypocotyl cross-sections from tiled high-resolution images and extracted their information content using custom high-throughput image processing and segmentation. Coupled with automated cell type recognition through machine learning, we could establish a cellular resolution atlas that reveals vascular morphodynamics during secondary growth, for example equidistant phloem pole formation.\",\n",
      "    \"container-title\": \"eLife\",\n",
      "    \"volume\": \"3\",\n",
      "    \"publisher\": \"eLife Sciences Publications, Ltd\",\n",
      "    \"title\": \"Automated quantitative histology reveals vascular morphodynamics during Arabidopsis hypocotyl secondary growth\",\n",
      "    \"copyright\": \"Creative Commons Attribution 3.0 Unported\"\n",
      "}\n"
     ]
    }
   ],
   "source": [
    "citeproc = metadata.citeproc()\n",
    "print(citeproc)"
   ]
  },
  {
   "attachments": {},
   "cell_type": "markdown",
   "metadata": {},
   "source": [
    "Citeproc JSON is similar to the JSON – e.g. in using `date-parts` for dates. However, it has some differences, e.g. in the `type` field. commonmeta therefore supports specific types for Citeproc JSON in addition to the `ResourceType` used for Crossref metadata."
   ]
  }
 ],
 "metadata": {
  "kernelspec": {
   "display_name": "Python 3",
   "language": "python",
   "name": "python3"
  },
  "language_info": {
   "codemirror_mode": {
    "name": "ipython",
    "version": 3
   },
   "file_extension": ".py",
   "mimetype": "text/x-python",
   "name": "python",
   "nbconvert_exporter": "python",
   "pygments_lexer": "ipython3",
   "version": "3.9.16"
  },
  "orig_nbformat": 4,
  "vscode": {
   "interpreter": {
    "hash": "a665b5d41d17b532ea9890333293a1b812fa0b73c9c25c950b3cedf1bebd0438"
   }
  }
 },
 "nbformat": 4,
 "nbformat_minor": 2
}
