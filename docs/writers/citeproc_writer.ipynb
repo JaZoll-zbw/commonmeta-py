{
 "cells": [
  {
   "attachments": {},
   "cell_type": "markdown",
   "metadata": {},
   "source": [
    "# Citeproc Writer\n",
    "\n",
    "This notebook shows how to generate a metadata in [Citeproc JSON](https://citeproc-js.readthedocs.io/en/latest/csl-json/markup.html#introduction) format. Citeproc JSON is used by the [Citation Styles Language](https://citationstyles.org/) to generate formatted citations and bibliographies."
   ]
  },
  {
   "attachments": {},
   "cell_type": "markdown",
   "metadata": {},
   "source": [
    "[Download Notebook](https://github.com/front-matter/commonmeta-py/blob/main/docs/writers/citeproc_writer.ipynb)"
   ]
  },
  {
   "attachments": {},
   "cell_type": "markdown",
   "metadata": {},
   "source": [
    "As with all commonmeta-py Writer notebooks, we start by fetching metadata, in this example a journal article via its Crossref DOI, and convert them to the internal commonmeta format."
   ]
  },
  {
   "cell_type": "code",
   "execution_count": null,
   "metadata": {},
   "outputs": [],
   "source": [
    "from commonmeta import Metadata\n",
    "\n",
    "# Fetch metadata from a DOI\n",
    "string = '10.7554/elife.01567'\n",
    "metadata = Metadata(string)\n",
    "\n",
    "# Check that metadata was fetched successfully\n",
    "print(metadata.state)"
   ]
  },
  {
   "attachments": {},
   "cell_type": "markdown",
   "metadata": {},
   "source": [
    "## Generate Citeproc JSON\n",
    "\n",
    "We can now generate Citeproc JSON from the metadata in commonmeta format. "
   ]
  },
  {
   "cell_type": "code",
   "execution_count": null,
   "metadata": {},
   "outputs": [],
   "source": [
    "citeproc = metadata.citeproc()\n",
    "print(citeproc)"
   ]
  },
  {
   "attachments": {},
   "cell_type": "markdown",
   "metadata": {},
   "source": [
    "Citeproc JSON is similar to the JSON – e.g. in using `date-parts` for dates. However, it has some differences, e.g. in the `type` field. commonmeta therefore supports specific types for Citeproc JSON in addition to the `ResourceType` used for Crossref metadata."
   ]
  }
 ],
 "metadata": {
  "kernelspec": {
   "display_name": "Python 3",
   "language": "python",
   "name": "python3"
  },
  "language_info": {
   "codemirror_mode": {
    "name": "ipython",
    "version": 3
   },
   "file_extension": ".py",
   "mimetype": "text/x-python",
   "name": "python",
   "nbconvert_exporter": "python",
   "pygments_lexer": "ipython3",
   "version": "3.9.16"
  },
  "vscode": {
   "interpreter": {
    "hash": "a665b5d41d17b532ea9890333293a1b812fa0b73c9c25c950b3cedf1bebd0438"
   }
  }
 },
 "nbformat": 4,
 "nbformat_minor": 2
}
