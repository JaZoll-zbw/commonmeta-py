{
 "cells": [
  {
   "attachments": {},
   "cell_type": "markdown",
   "id": "121752b4-5e3f-495a-b76f-8fab3d44b3b5",
   "metadata": {},
   "source": [
    "# Citation Writer\n",
    "\n",
    "This notebook shows how to generate a formatted citation in one of the 1000s of styles supported by the [Citation Style Language](https://citationstyles.org/). The citation is returned as a string in HTML format, supporting a limited subset of HTML tags (such as `<i>` and `<sup>`).\n",
    "\n",
    "As with all Talbot Writer notebooks, we start by importing the Talbot library and fetching metadata, in this example a journal article via its Crossref DOI:"
   ]
  },
  {
   "cell_type": "code",
   "execution_count": 57,
   "id": "35248b4a",
   "metadata": {},
   "outputs": [
    {
     "name": "stdout",
     "output_type": "stream",
     "text": [
      "findable\n"
     ]
    }
   ],
   "source": [
    "from talbot import Metadata\n",
    "\n",
    "# Fetch metadata from a DOI\n",
    "doi = '10.7554/elife.01567'\n",
    "metadata = Metadata(doi)\n",
    "\n",
    "# Check that metadata was fetched successfully\n",
    "print(metadata.state)"
   ]
  },
  {
   "attachments": {},
   "cell_type": "markdown",
   "id": "d0444863",
   "metadata": {},
   "source": [
    "## Generate a formatted citation\n",
    "\n",
    "Using the `citation` writer, Talbot can generate a formatted citation for the resource, using one of the citation styles defined in the [Citation Style Language](https://github.com/citation-style-language/styles). The default style is `apa`, which is the American Psychological Association 7th Edition style. The style is not only very popular and well-documented, but is one of only a few styles that has specific support for special content types, such as `dataset` and `software`. And unlike many other styles, it includes the DOI expressed as URL in the citation."
   ]
  },
  {
   "cell_type": "code",
   "execution_count": 58,
   "id": "0e35c7d1",
   "metadata": {},
   "outputs": [
    {
     "name": "stdout",
     "output_type": "stream",
     "text": [
      "Sankar, M., Nieminen, K., Ragni, L., Xenarios, I., &amp; Hardtke, C. S. (2014). Automated quantitative histology reveals vascular morphodynamics during Arabidopsis hypocotyl secondary growth. <i>Elife</i>, <i>3</i>. https://doi.org/10.7554/elife.01567\n"
     ]
    }
   ],
   "source": [
    "# Journal Article\n",
    "citation = metadata.citation()\n",
    "print(citation)"
   ]
  },
  {
   "cell_type": "code",
   "execution_count": 59,
   "id": "23f2db36",
   "metadata": {},
   "outputs": [
    {
     "name": "stdout",
     "output_type": "stream",
     "text": [
      "Sinop, A. K., &amp; Grady, L. (2007). A Seeded Image Segmentation Framework Unifying Graph Cuts And Random Walker Which Yields A New Algorithm. <i>2007 IEEE 11th International Conference on Computer Vision</i>. https://doi.org/10.1109/iccv.2007.4408927\n"
     ]
    }
   ],
   "source": [
    "# Conference Proceedings\n",
    "metadata = Metadata('10.1109/iccv.2007.4408927')\n",
    "citation = metadata.citation()\n",
    "print(citation)"
   ]
  },
  {
   "cell_type": "code",
   "execution_count": 60,
   "id": "5eef51fe",
   "metadata": {},
   "outputs": [
    {
     "name": "stdout",
     "output_type": "stream",
     "text": [
      "Chen, L., Panin, G., &amp; Knoll, A. (2012). Human Body Orientation Estimation in Multiview Scenarios. In <i>Advances in Visual Computing</i> (pp. 499–508). Springer Berlin Heidelberg. https://doi.org/10.1007/978-3-642-33191-6_49\n"
     ]
    }
   ],
   "source": [
    "# Book Chapter\n",
    "metadata = Metadata('10.1007/978-3-642-33191-6_49')\n",
    "citation = metadata.citation()\n",
    "print(citation)"
   ]
  },
  {
   "cell_type": "code",
   "execution_count": 61,
   "id": "8b43ad16",
   "metadata": {},
   "outputs": [
    {
     "name": "stdout",
     "output_type": "stream",
     "text": [
      "Ollomo, B., Durand, P., Prugnolle, F., Douzery, E. J. P., Arnathau, C., Nkoghe, D., Leroy, E., &amp; Renaud, F. (2011). <i>Data from: A new malaria agent in African hominids.</i> (Version 1) [Data set]. Dryad. https://doi.org/10.5061/dryad.8515\n"
     ]
    }
   ],
   "source": [
    "# Dataset\n",
    "metadata = Metadata('10.5061/dryad.8515')\n",
    "citation = metadata.citation()\n",
    "print(citation)"
   ]
  },
  {
   "cell_type": "code",
   "execution_count": 62,
   "id": "6f52aa82",
   "metadata": {},
   "outputs": [
    {
     "name": "stdout",
     "output_type": "stream",
     "text": [
      "Garza, K. (2016). <i>Analysis Tools For Crossover Experiment Of Ui Using Choice Architecture</i>. Zenodo. https://doi.org/10.5281/zenodo.48440\n"
     ]
    }
   ],
   "source": [
    "# Software\n",
    "# TODO properly handle software type\n",
    "metadata = Metadata('10.5281/zenodo.48440')\n",
    "citation = metadata.citation()\n",
    "print(citation)"
   ]
  },
  {
   "attachments": {},
   "cell_type": "markdown",
   "id": "aac369fe",
   "metadata": {},
   "source": [
    "## Popular Citation Styles\n",
    "\n",
    "Let's try out a few popular citation styles:"
   ]
  },
  {
   "cell_type": "code",
   "execution_count": 63,
   "id": "7945d349",
   "metadata": {},
   "outputs": [
    {
     "name": "stdout",
     "output_type": "stream",
     "text": [
      "1. Sankar M, Nieminen K, Ragni L, Xenarios I, Hardtke CS. Automated quantitative histology reveals vascular morphodynamics during Arabidopsis hypocotyl secondary growth. <i>eLife</i>. 2014;3. doi:10.7554/elife.01567\n"
     ]
    }
   ],
   "source": [
    "# let fetch the original metadata again\n",
    "metadata = Metadata('10.7554/elife.01567')\n",
    "\n",
    "# American Medical Association (AMA) style\n",
    "metadata.style = 'american-medical-association'\n",
    "citation = metadata.citation()\n",
    "print(citation)"
   ]
  },
  {
   "cell_type": "code",
   "execution_count": 64,
   "id": "f6388908",
   "metadata": {},
   "outputs": [
    {
     "name": "stdout",
     "output_type": "stream",
     "text": [
      "[1]M. Sankar, K. Nieminen, L. Ragni, I. Xenariosand C. S. Hardtke, “Automated quantitative histology reveals vascular morphodynamics during Arabidopsis hypocotyl secondary growth”, <i>eLife</i>, vol. 3, Feb. 2014, doi: 10.7554/elife.01567.\n"
     ]
    }
   ],
   "source": [
    "# IEEE\n",
    "metadata.style = 'ieee'\n",
    "citation = metadata.citation()\n",
    "print(citation)"
   ]
  },
  {
   "cell_type": "code",
   "execution_count": 65,
   "id": "2f10dc4f",
   "metadata": {},
   "outputs": [
    {
     "name": "stdout",
     "output_type": "stream",
     "text": [
      "Sankar, Martial, Kaisa Nieminen, Laura Ragni, Ioannis Xenarios, and Christian S Hardtke. 2014. “Automated Quantitative Histology Reveals Vascular Morphodynamics During Arabidopsis Hypocotyl Secondary Growth”. <i>Elife</i> 3 (February). https://doi.org/10.7554/elife.01567.\n"
     ]
    }
   ],
   "source": [
    "# Chicago Manual of Style 17th Edition (author-date)\n",
    "metadata.style = 'chicago-author-date'\n",
    "citation = metadata.citation()\n",
    "print(citation)"
   ]
  },
  {
   "attachments": {},
   "cell_type": "markdown",
   "id": "e23d5c6b",
   "metadata": {},
   "source": [
    "## Citation Locales\n",
    "\n",
    "The other option in the citation writer is the *locale*, which is the language in which the citation is written (words like dates, not the metadata that comes from Crossref). The default locale is `en-US`, we use `es-ES` here. The locales are defined in the [Citation Style Language repository](https://github.com/citation-style-language/locales). I am using an example from Crossref where the metadata are also in Spanish."
   ]
  },
  {
   "cell_type": "code",
   "execution_count": 66,
   "id": "fd476a35",
   "metadata": {},
   "outputs": [
    {
     "name": "stdout",
     "output_type": "stream",
     "text": [
      "Laborde, F. <i>Biografía De Juan Bautista Alberdi</i>. Fundación Ignacio Larramendi, 2010, doi:10.18558/fil026.\n"
     ]
    }
   ],
   "source": [
    "metadata = Metadata(\"10.18558/fil026\")\n",
    "metadata.locale = 'es-ES'\n",
    "metadata.style = 'modern-language-association'\n",
    "citation = metadata.citation()\n",
    "print(citation)"
   ]
  }
 ],
 "metadata": {
  "kernelspec": {
   "display_name": "Python 3",
   "language": "python",
   "name": "python3"
  },
  "language_info": {
   "codemirror_mode": {
    "name": "ipython",
    "version": 3
   },
   "file_extension": ".py",
   "mimetype": "text/x-python",
   "name": "python",
   "nbconvert_exporter": "python",
   "pygments_lexer": "ipython3",
   "version": "3.9.9"
  },
  "vscode": {
   "interpreter": {
    "hash": "737c62f48720453199cecb0c73cf20e643f4c62974b26a046a741d1e92da10e9"
   }
  }
 },
 "nbformat": 4,
 "nbformat_minor": 5
}
