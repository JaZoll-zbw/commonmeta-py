{
 "cells": [
  {
   "attachments": {},
   "cell_type": "markdown",
   "id": "121752b4-5e3f-495a-b76f-8fab3d44b3b5",
   "metadata": {},
   "source": [
    "# Citation Writer\n",
    "\n",
    "This notebook shows how to generate a formatted citation in one of the 1000s of styles supported by the [Citation Style Language](https://citationstyles.org/). The citation is returned as a string in HTML format, supporting a limited subset of HTML tags (such as `<i>` and `<sup>`)."
   ]
  },
  {
   "attachments": {},
   "cell_type": "markdown",
   "id": "b98e79b3",
   "metadata": {},
   "source": [
    "[Download Notebook](https://github.com/front-matter/commonmeta-py/blob/main/docs/writers/citation_writer.ipynb)"
   ]
  },
  {
   "attachments": {},
   "cell_type": "markdown",
   "id": "07d8b988",
   "metadata": {},
   "source": [
    "As with all commonmeta-py notebooks, we start by fetching metadata, in this example a journal article via its Crossref DOI, an then convert them to the internal commonmeta format."
   ]
  },
  {
   "cell_type": "code",
   "execution_count": 1,
   "id": "35248b4a",
   "metadata": {},
   "outputs": [
    {
     "ename": "ConnectTimeout",
     "evalue": "HTTPSConnectionPool(host='doi.org', port=443): Max retries exceeded with url: /ra/10.7554 (Caused by ConnectTimeoutError(<urllib3.connection.HTTPSConnection object at 0x1067f9340>, 'Connection to doi.org timed out. (connect timeout=5)'))",
     "output_type": "error",
     "traceback": [
      "\u001b[0;31m---------------------------------------------------------------------------\u001b[0m",
      "\u001b[0;31mtimeout\u001b[0m                                   Traceback (most recent call last)",
      "File \u001b[0;32m/opt/homebrew/lib/python3.9/site-packages/urllib3/connection.py:174\u001b[0m, in \u001b[0;36mHTTPConnection._new_conn\u001b[0;34m(self)\u001b[0m\n\u001b[1;32m    173\u001b[0m \u001b[39mtry\u001b[39;00m:\n\u001b[0;32m--> 174\u001b[0m     conn \u001b[39m=\u001b[39m connection\u001b[39m.\u001b[39;49mcreate_connection(\n\u001b[1;32m    175\u001b[0m         (\u001b[39mself\u001b[39;49m\u001b[39m.\u001b[39;49m_dns_host, \u001b[39mself\u001b[39;49m\u001b[39m.\u001b[39;49mport), \u001b[39mself\u001b[39;49m\u001b[39m.\u001b[39;49mtimeout, \u001b[39m*\u001b[39;49m\u001b[39m*\u001b[39;49mextra_kw\n\u001b[1;32m    176\u001b[0m     )\n\u001b[1;32m    178\u001b[0m \u001b[39mexcept\u001b[39;00m SocketTimeout:\n",
      "File \u001b[0;32m/opt/homebrew/lib/python3.9/site-packages/urllib3/util/connection.py:95\u001b[0m, in \u001b[0;36mcreate_connection\u001b[0;34m(address, timeout, source_address, socket_options)\u001b[0m\n\u001b[1;32m     94\u001b[0m \u001b[39mif\u001b[39;00m err \u001b[39mis\u001b[39;00m \u001b[39mnot\u001b[39;00m \u001b[39mNone\u001b[39;00m:\n\u001b[0;32m---> 95\u001b[0m     \u001b[39mraise\u001b[39;00m err\n\u001b[1;32m     97\u001b[0m \u001b[39mraise\u001b[39;00m socket\u001b[39m.\u001b[39merror(\u001b[39m\"\u001b[39m\u001b[39mgetaddrinfo returns an empty list\u001b[39m\u001b[39m\"\u001b[39m)\n",
      "File \u001b[0;32m/opt/homebrew/lib/python3.9/site-packages/urllib3/util/connection.py:85\u001b[0m, in \u001b[0;36mcreate_connection\u001b[0;34m(address, timeout, source_address, socket_options)\u001b[0m\n\u001b[1;32m     84\u001b[0m     sock\u001b[39m.\u001b[39mbind(source_address)\n\u001b[0;32m---> 85\u001b[0m sock\u001b[39m.\u001b[39;49mconnect(sa)\n\u001b[1;32m     86\u001b[0m \u001b[39mreturn\u001b[39;00m sock\n",
      "\u001b[0;31mtimeout\u001b[0m: timed out",
      "\nDuring handling of the above exception, another exception occurred:\n",
      "\u001b[0;31mConnectTimeoutError\u001b[0m                       Traceback (most recent call last)",
      "File \u001b[0;32m/opt/homebrew/lib/python3.9/site-packages/urllib3/connectionpool.py:703\u001b[0m, in \u001b[0;36mHTTPConnectionPool.urlopen\u001b[0;34m(self, method, url, body, headers, retries, redirect, assert_same_host, timeout, pool_timeout, release_conn, chunked, body_pos, **response_kw)\u001b[0m\n\u001b[1;32m    702\u001b[0m \u001b[39m# Make the request on the httplib connection object.\u001b[39;00m\n\u001b[0;32m--> 703\u001b[0m httplib_response \u001b[39m=\u001b[39m \u001b[39mself\u001b[39;49m\u001b[39m.\u001b[39;49m_make_request(\n\u001b[1;32m    704\u001b[0m     conn,\n\u001b[1;32m    705\u001b[0m     method,\n\u001b[1;32m    706\u001b[0m     url,\n\u001b[1;32m    707\u001b[0m     timeout\u001b[39m=\u001b[39;49mtimeout_obj,\n\u001b[1;32m    708\u001b[0m     body\u001b[39m=\u001b[39;49mbody,\n\u001b[1;32m    709\u001b[0m     headers\u001b[39m=\u001b[39;49mheaders,\n\u001b[1;32m    710\u001b[0m     chunked\u001b[39m=\u001b[39;49mchunked,\n\u001b[1;32m    711\u001b[0m )\n\u001b[1;32m    713\u001b[0m \u001b[39m# If we're going to release the connection in ``finally:``, then\u001b[39;00m\n\u001b[1;32m    714\u001b[0m \u001b[39m# the response doesn't need to know about the connection. Otherwise\u001b[39;00m\n\u001b[1;32m    715\u001b[0m \u001b[39m# it will also try to release it and we'll have a double-release\u001b[39;00m\n\u001b[1;32m    716\u001b[0m \u001b[39m# mess.\u001b[39;00m\n",
      "File \u001b[0;32m/opt/homebrew/lib/python3.9/site-packages/urllib3/connectionpool.py:386\u001b[0m, in \u001b[0;36mHTTPConnectionPool._make_request\u001b[0;34m(self, conn, method, url, timeout, chunked, **httplib_request_kw)\u001b[0m\n\u001b[1;32m    385\u001b[0m \u001b[39mtry\u001b[39;00m:\n\u001b[0;32m--> 386\u001b[0m     \u001b[39mself\u001b[39;49m\u001b[39m.\u001b[39;49m_validate_conn(conn)\n\u001b[1;32m    387\u001b[0m \u001b[39mexcept\u001b[39;00m (SocketTimeout, BaseSSLError) \u001b[39mas\u001b[39;00m e:\n\u001b[1;32m    388\u001b[0m     \u001b[39m# Py2 raises this as a BaseSSLError, Py3 raises it as socket timeout.\u001b[39;00m\n",
      "File \u001b[0;32m/opt/homebrew/lib/python3.9/site-packages/urllib3/connectionpool.py:1040\u001b[0m, in \u001b[0;36mHTTPSConnectionPool._validate_conn\u001b[0;34m(self, conn)\u001b[0m\n\u001b[1;32m   1039\u001b[0m \u001b[39mif\u001b[39;00m \u001b[39mnot\u001b[39;00m \u001b[39mgetattr\u001b[39m(conn, \u001b[39m\"\u001b[39m\u001b[39msock\u001b[39m\u001b[39m\"\u001b[39m, \u001b[39mNone\u001b[39;00m):  \u001b[39m# AppEngine might not have  `.sock`\u001b[39;00m\n\u001b[0;32m-> 1040\u001b[0m     conn\u001b[39m.\u001b[39;49mconnect()\n\u001b[1;32m   1042\u001b[0m \u001b[39mif\u001b[39;00m \u001b[39mnot\u001b[39;00m conn\u001b[39m.\u001b[39mis_verified:\n",
      "File \u001b[0;32m/opt/homebrew/lib/python3.9/site-packages/urllib3/connection.py:358\u001b[0m, in \u001b[0;36mHTTPSConnection.connect\u001b[0;34m(self)\u001b[0m\n\u001b[1;32m    356\u001b[0m \u001b[39mdef\u001b[39;00m \u001b[39mconnect\u001b[39m(\u001b[39mself\u001b[39m):\n\u001b[1;32m    357\u001b[0m     \u001b[39m# Add certificate verification\u001b[39;00m\n\u001b[0;32m--> 358\u001b[0m     conn \u001b[39m=\u001b[39m \u001b[39mself\u001b[39;49m\u001b[39m.\u001b[39;49m_new_conn()\n\u001b[1;32m    359\u001b[0m     hostname \u001b[39m=\u001b[39m \u001b[39mself\u001b[39m\u001b[39m.\u001b[39mhost\n",
      "File \u001b[0;32m/opt/homebrew/lib/python3.9/site-packages/urllib3/connection.py:179\u001b[0m, in \u001b[0;36mHTTPConnection._new_conn\u001b[0;34m(self)\u001b[0m\n\u001b[1;32m    178\u001b[0m \u001b[39mexcept\u001b[39;00m SocketTimeout:\n\u001b[0;32m--> 179\u001b[0m     \u001b[39mraise\u001b[39;00m ConnectTimeoutError(\n\u001b[1;32m    180\u001b[0m         \u001b[39mself\u001b[39m,\n\u001b[1;32m    181\u001b[0m         \u001b[39m\"\u001b[39m\u001b[39mConnection to \u001b[39m\u001b[39m%s\u001b[39;00m\u001b[39m timed out. (connect timeout=\u001b[39m\u001b[39m%s\u001b[39;00m\u001b[39m)\u001b[39m\u001b[39m\"\u001b[39m\n\u001b[1;32m    182\u001b[0m         \u001b[39m%\u001b[39m (\u001b[39mself\u001b[39m\u001b[39m.\u001b[39mhost, \u001b[39mself\u001b[39m\u001b[39m.\u001b[39mtimeout),\n\u001b[1;32m    183\u001b[0m     )\n\u001b[1;32m    185\u001b[0m \u001b[39mexcept\u001b[39;00m SocketError \u001b[39mas\u001b[39;00m e:\n",
      "\u001b[0;31mConnectTimeoutError\u001b[0m: (<urllib3.connection.HTTPSConnection object at 0x1067f9340>, 'Connection to doi.org timed out. (connect timeout=5)')",
      "\nDuring handling of the above exception, another exception occurred:\n",
      "\u001b[0;31mMaxRetryError\u001b[0m                             Traceback (most recent call last)",
      "File \u001b[0;32m/opt/homebrew/lib/python3.9/site-packages/requests/adapters.py:440\u001b[0m, in \u001b[0;36mHTTPAdapter.send\u001b[0;34m(self, request, stream, timeout, verify, cert, proxies)\u001b[0m\n\u001b[1;32m    439\u001b[0m \u001b[39mif\u001b[39;00m \u001b[39mnot\u001b[39;00m chunked:\n\u001b[0;32m--> 440\u001b[0m     resp \u001b[39m=\u001b[39m conn\u001b[39m.\u001b[39;49murlopen(\n\u001b[1;32m    441\u001b[0m         method\u001b[39m=\u001b[39;49mrequest\u001b[39m.\u001b[39;49mmethod,\n\u001b[1;32m    442\u001b[0m         url\u001b[39m=\u001b[39;49murl,\n\u001b[1;32m    443\u001b[0m         body\u001b[39m=\u001b[39;49mrequest\u001b[39m.\u001b[39;49mbody,\n\u001b[1;32m    444\u001b[0m         headers\u001b[39m=\u001b[39;49mrequest\u001b[39m.\u001b[39;49mheaders,\n\u001b[1;32m    445\u001b[0m         redirect\u001b[39m=\u001b[39;49m\u001b[39mFalse\u001b[39;49;00m,\n\u001b[1;32m    446\u001b[0m         assert_same_host\u001b[39m=\u001b[39;49m\u001b[39mFalse\u001b[39;49;00m,\n\u001b[1;32m    447\u001b[0m         preload_content\u001b[39m=\u001b[39;49m\u001b[39mFalse\u001b[39;49;00m,\n\u001b[1;32m    448\u001b[0m         decode_content\u001b[39m=\u001b[39;49m\u001b[39mFalse\u001b[39;49;00m,\n\u001b[1;32m    449\u001b[0m         retries\u001b[39m=\u001b[39;49m\u001b[39mself\u001b[39;49m\u001b[39m.\u001b[39;49mmax_retries,\n\u001b[1;32m    450\u001b[0m         timeout\u001b[39m=\u001b[39;49mtimeout\n\u001b[1;32m    451\u001b[0m     )\n\u001b[1;32m    453\u001b[0m \u001b[39m# Send the request.\u001b[39;00m\n\u001b[1;32m    454\u001b[0m \u001b[39melse\u001b[39;00m:\n",
      "File \u001b[0;32m/opt/homebrew/lib/python3.9/site-packages/urllib3/connectionpool.py:785\u001b[0m, in \u001b[0;36mHTTPConnectionPool.urlopen\u001b[0;34m(self, method, url, body, headers, retries, redirect, assert_same_host, timeout, pool_timeout, release_conn, chunked, body_pos, **response_kw)\u001b[0m\n\u001b[1;32m    783\u001b[0m     e \u001b[39m=\u001b[39m ProtocolError(\u001b[39m\"\u001b[39m\u001b[39mConnection aborted.\u001b[39m\u001b[39m\"\u001b[39m, e)\n\u001b[0;32m--> 785\u001b[0m retries \u001b[39m=\u001b[39m retries\u001b[39m.\u001b[39;49mincrement(\n\u001b[1;32m    786\u001b[0m     method, url, error\u001b[39m=\u001b[39;49me, _pool\u001b[39m=\u001b[39;49m\u001b[39mself\u001b[39;49m, _stacktrace\u001b[39m=\u001b[39;49msys\u001b[39m.\u001b[39;49mexc_info()[\u001b[39m2\u001b[39;49m]\n\u001b[1;32m    787\u001b[0m )\n\u001b[1;32m    788\u001b[0m retries\u001b[39m.\u001b[39msleep()\n",
      "File \u001b[0;32m/opt/homebrew/lib/python3.9/site-packages/urllib3/util/retry.py:592\u001b[0m, in \u001b[0;36mRetry.increment\u001b[0;34m(self, method, url, response, error, _pool, _stacktrace)\u001b[0m\n\u001b[1;32m    591\u001b[0m \u001b[39mif\u001b[39;00m new_retry\u001b[39m.\u001b[39mis_exhausted():\n\u001b[0;32m--> 592\u001b[0m     \u001b[39mraise\u001b[39;00m MaxRetryError(_pool, url, error \u001b[39mor\u001b[39;00m ResponseError(cause))\n\u001b[1;32m    594\u001b[0m log\u001b[39m.\u001b[39mdebug(\u001b[39m\"\u001b[39m\u001b[39mIncremented Retry for (url=\u001b[39m\u001b[39m'\u001b[39m\u001b[39m%s\u001b[39;00m\u001b[39m'\u001b[39m\u001b[39m): \u001b[39m\u001b[39m%r\u001b[39;00m\u001b[39m\"\u001b[39m, url, new_retry)\n",
      "\u001b[0;31mMaxRetryError\u001b[0m: HTTPSConnectionPool(host='doi.org', port=443): Max retries exceeded with url: /ra/10.7554 (Caused by ConnectTimeoutError(<urllib3.connection.HTTPSConnection object at 0x1067f9340>, 'Connection to doi.org timed out. (connect timeout=5)'))",
      "\nDuring handling of the above exception, another exception occurred:\n",
      "\u001b[0;31mConnectTimeout\u001b[0m                            Traceback (most recent call last)",
      "Cell \u001b[0;32mIn[1], line 5\u001b[0m\n\u001b[1;32m      3\u001b[0m \u001b[39m# Fetch metadata from a DOI\u001b[39;00m\n\u001b[1;32m      4\u001b[0m string \u001b[39m=\u001b[39m \u001b[39m'\u001b[39m\u001b[39m10.7554/elife.01567\u001b[39m\u001b[39m'\u001b[39m\n\u001b[0;32m----> 5\u001b[0m metadata \u001b[39m=\u001b[39m Metadata(string)\n\u001b[1;32m      7\u001b[0m \u001b[39m# Check that metadata was fetched successfully\u001b[39;00m\n\u001b[1;32m      8\u001b[0m \u001b[39mprint\u001b[39m(metadata\u001b[39m.\u001b[39mstate)\n",
      "File \u001b[0;32m~/Documents/git/commonmeta-py/commonmeta/metadata/metadata.py:46\u001b[0m, in \u001b[0;36mMetadata.__init__\u001b[0;34m(self, string, **kwargs)\u001b[0m\n\u001b[1;32m     43\u001b[0m pid \u001b[39m=\u001b[39m normalize_id(string)\n\u001b[1;32m     45\u001b[0m \u001b[39mif\u001b[39;00m pid \u001b[39mis\u001b[39;00m \u001b[39mnot\u001b[39;00m \u001b[39mNone\u001b[39;00m:\n\u001b[0;32m---> 46\u001b[0m     via \u001b[39m=\u001b[39m kwargs\u001b[39m.\u001b[39mget(\u001b[39m\"\u001b[39m\u001b[39mvia\u001b[39m\u001b[39m\"\u001b[39m, \u001b[39mNone\u001b[39;00m) \u001b[39mor\u001b[39;00m find_from_format(pid\u001b[39m=\u001b[39;49mpid)\n\u001b[1;32m     47\u001b[0m     \u001b[39mif\u001b[39;00m via \u001b[39m==\u001b[39m \u001b[39m\"\u001b[39m\u001b[39mschema_org\u001b[39m\u001b[39m\"\u001b[39m:\n\u001b[1;32m     48\u001b[0m         data \u001b[39m=\u001b[39m get_schema_org(pid)\n",
      "File \u001b[0;32m~/Documents/git/commonmeta-py/commonmeta/utils.py:393\u001b[0m, in \u001b[0;36mfind_from_format\u001b[0;34m(pid, string, ext, filename)\u001b[0m\n\u001b[1;32m    391\u001b[0m \u001b[39m\u001b[39m\u001b[39m\"\"\"Find reader from format\"\"\"\u001b[39;00m\n\u001b[1;32m    392\u001b[0m \u001b[39mif\u001b[39;00m pid \u001b[39mis\u001b[39;00m \u001b[39mnot\u001b[39;00m \u001b[39mNone\u001b[39;00m:\n\u001b[0;32m--> 393\u001b[0m     \u001b[39mreturn\u001b[39;00m find_from_format_by_id(pid)\n\u001b[1;32m    394\u001b[0m \u001b[39mif\u001b[39;00m string \u001b[39mis\u001b[39;00m \u001b[39mnot\u001b[39;00m \u001b[39mNone\u001b[39;00m \u001b[39mand\u001b[39;00m ext \u001b[39mis\u001b[39;00m \u001b[39mnot\u001b[39;00m \u001b[39mNone\u001b[39;00m:\n\u001b[1;32m    395\u001b[0m     \u001b[39mreturn\u001b[39;00m find_from_format_by_ext(ext)\n",
      "File \u001b[0;32m~/Documents/git/commonmeta-py/commonmeta/utils.py:406\u001b[0m, in \u001b[0;36mfind_from_format_by_id\u001b[0;34m(pid)\u001b[0m\n\u001b[1;32m    404\u001b[0m \u001b[39m\u001b[39m\u001b[39m\"\"\"Find reader from format by id\"\"\"\u001b[39;00m\n\u001b[1;32m    405\u001b[0m doi \u001b[39m=\u001b[39m validate_doi(pid)\n\u001b[0;32m--> 406\u001b[0m \u001b[39mif\u001b[39;00m doi \u001b[39mand\u001b[39;00m (registration_agency \u001b[39m:=\u001b[39m get_doi_ra(doi)) \u001b[39mis\u001b[39;00m \u001b[39mnot\u001b[39;00m \u001b[39mNone\u001b[39;00m:\n\u001b[1;32m    407\u001b[0m     \u001b[39mreturn\u001b[39;00m registration_agency\u001b[39m.\u001b[39mlower()\n\u001b[1;32m    408\u001b[0m \u001b[39mif\u001b[39;00m (\n\u001b[1;32m    409\u001b[0m     re\u001b[39m.\u001b[39mmatch(\u001b[39mr\u001b[39m\u001b[39m\"\u001b[39m\u001b[39m\\\u001b[39m\u001b[39mA(http|https):/(/)?github\u001b[39m\u001b[39m\\\u001b[39m\u001b[39m.com/(.+)/CITATION.cff\u001b[39m\u001b[39m\\\u001b[39m\u001b[39mZ\u001b[39m\u001b[39m\"\u001b[39m, pid)\n\u001b[1;32m    410\u001b[0m     \u001b[39mis\u001b[39;00m \u001b[39mnot\u001b[39;00m \u001b[39mNone\u001b[39;00m\n\u001b[1;32m    411\u001b[0m ):\n",
      "File \u001b[0;32m~/Documents/git/commonmeta-py/commonmeta/doi_utils.py:76\u001b[0m, in \u001b[0;36mget_doi_ra\u001b[0;34m(doi)\u001b[0m\n\u001b[1;32m     74\u001b[0m \u001b[39mif\u001b[39;00m prefix \u001b[39mis\u001b[39;00m \u001b[39mNone\u001b[39;00m:\n\u001b[1;32m     75\u001b[0m     \u001b[39mreturn\u001b[39;00m \u001b[39mNone\u001b[39;00m\n\u001b[0;32m---> 76\u001b[0m response \u001b[39m=\u001b[39m requests\u001b[39m.\u001b[39;49mget(\u001b[39m\"\u001b[39;49m\u001b[39mhttps://doi.org/ra/\u001b[39;49m\u001b[39m\"\u001b[39;49m \u001b[39m+\u001b[39;49m prefix, timeout\u001b[39m=\u001b[39;49m\u001b[39m5\u001b[39;49m)\n\u001b[1;32m     77\u001b[0m \u001b[39mif\u001b[39;00m response\u001b[39m.\u001b[39mstatus_code \u001b[39m!=\u001b[39m \u001b[39m200\u001b[39m:\n\u001b[1;32m     78\u001b[0m     \u001b[39mreturn\u001b[39;00m \u001b[39mNone\u001b[39;00m\n",
      "File \u001b[0;32m/opt/homebrew/lib/python3.9/site-packages/requests/api.py:75\u001b[0m, in \u001b[0;36mget\u001b[0;34m(url, params, **kwargs)\u001b[0m\n\u001b[1;32m     64\u001b[0m \u001b[39mdef\u001b[39;00m \u001b[39mget\u001b[39m(url, params\u001b[39m=\u001b[39m\u001b[39mNone\u001b[39;00m, \u001b[39m*\u001b[39m\u001b[39m*\u001b[39mkwargs):\n\u001b[1;32m     65\u001b[0m \u001b[39m    \u001b[39m\u001b[39mr\u001b[39m\u001b[39m\"\"\"Sends a GET request.\u001b[39;00m\n\u001b[1;32m     66\u001b[0m \n\u001b[1;32m     67\u001b[0m \u001b[39m    :param url: URL for the new :class:`Request` object.\u001b[39;00m\n\u001b[0;32m   (...)\u001b[0m\n\u001b[1;32m     72\u001b[0m \u001b[39m    :rtype: requests.Response\u001b[39;00m\n\u001b[1;32m     73\u001b[0m \u001b[39m    \"\"\"\u001b[39;00m\n\u001b[0;32m---> 75\u001b[0m     \u001b[39mreturn\u001b[39;00m request(\u001b[39m'\u001b[39;49m\u001b[39mget\u001b[39;49m\u001b[39m'\u001b[39;49m, url, params\u001b[39m=\u001b[39;49mparams, \u001b[39m*\u001b[39;49m\u001b[39m*\u001b[39;49mkwargs)\n",
      "File \u001b[0;32m/opt/homebrew/lib/python3.9/site-packages/requests/api.py:61\u001b[0m, in \u001b[0;36mrequest\u001b[0;34m(method, url, **kwargs)\u001b[0m\n\u001b[1;32m     57\u001b[0m \u001b[39m# By using the 'with' statement we are sure the session is closed, thus we\u001b[39;00m\n\u001b[1;32m     58\u001b[0m \u001b[39m# avoid leaving sockets open which can trigger a ResourceWarning in some\u001b[39;00m\n\u001b[1;32m     59\u001b[0m \u001b[39m# cases, and look like a memory leak in others.\u001b[39;00m\n\u001b[1;32m     60\u001b[0m \u001b[39mwith\u001b[39;00m sessions\u001b[39m.\u001b[39mSession() \u001b[39mas\u001b[39;00m session:\n\u001b[0;32m---> 61\u001b[0m     \u001b[39mreturn\u001b[39;00m session\u001b[39m.\u001b[39;49mrequest(method\u001b[39m=\u001b[39;49mmethod, url\u001b[39m=\u001b[39;49murl, \u001b[39m*\u001b[39;49m\u001b[39m*\u001b[39;49mkwargs)\n",
      "File \u001b[0;32m/opt/homebrew/lib/python3.9/site-packages/requests/sessions.py:529\u001b[0m, in \u001b[0;36mSession.request\u001b[0;34m(self, method, url, params, data, headers, cookies, files, auth, timeout, allow_redirects, proxies, hooks, stream, verify, cert, json)\u001b[0m\n\u001b[1;32m    524\u001b[0m send_kwargs \u001b[39m=\u001b[39m {\n\u001b[1;32m    525\u001b[0m     \u001b[39m'\u001b[39m\u001b[39mtimeout\u001b[39m\u001b[39m'\u001b[39m: timeout,\n\u001b[1;32m    526\u001b[0m     \u001b[39m'\u001b[39m\u001b[39mallow_redirects\u001b[39m\u001b[39m'\u001b[39m: allow_redirects,\n\u001b[1;32m    527\u001b[0m }\n\u001b[1;32m    528\u001b[0m send_kwargs\u001b[39m.\u001b[39mupdate(settings)\n\u001b[0;32m--> 529\u001b[0m resp \u001b[39m=\u001b[39m \u001b[39mself\u001b[39;49m\u001b[39m.\u001b[39;49msend(prep, \u001b[39m*\u001b[39;49m\u001b[39m*\u001b[39;49msend_kwargs)\n\u001b[1;32m    531\u001b[0m \u001b[39mreturn\u001b[39;00m resp\n",
      "File \u001b[0;32m/opt/homebrew/lib/python3.9/site-packages/requests/sessions.py:645\u001b[0m, in \u001b[0;36mSession.send\u001b[0;34m(self, request, **kwargs)\u001b[0m\n\u001b[1;32m    642\u001b[0m start \u001b[39m=\u001b[39m preferred_clock()\n\u001b[1;32m    644\u001b[0m \u001b[39m# Send the request\u001b[39;00m\n\u001b[0;32m--> 645\u001b[0m r \u001b[39m=\u001b[39m adapter\u001b[39m.\u001b[39;49msend(request, \u001b[39m*\u001b[39;49m\u001b[39m*\u001b[39;49mkwargs)\n\u001b[1;32m    647\u001b[0m \u001b[39m# Total elapsed time of the request (approximately)\u001b[39;00m\n\u001b[1;32m    648\u001b[0m elapsed \u001b[39m=\u001b[39m preferred_clock() \u001b[39m-\u001b[39m start\n",
      "File \u001b[0;32m/opt/homebrew/lib/python3.9/site-packages/requests/adapters.py:507\u001b[0m, in \u001b[0;36mHTTPAdapter.send\u001b[0;34m(self, request, stream, timeout, verify, cert, proxies)\u001b[0m\n\u001b[1;32m    504\u001b[0m \u001b[39mif\u001b[39;00m \u001b[39misinstance\u001b[39m(e\u001b[39m.\u001b[39mreason, ConnectTimeoutError):\n\u001b[1;32m    505\u001b[0m     \u001b[39m# TODO: Remove this in 3.0.0: see #2811\u001b[39;00m\n\u001b[1;32m    506\u001b[0m     \u001b[39mif\u001b[39;00m \u001b[39mnot\u001b[39;00m \u001b[39misinstance\u001b[39m(e\u001b[39m.\u001b[39mreason, NewConnectionError):\n\u001b[0;32m--> 507\u001b[0m         \u001b[39mraise\u001b[39;00m ConnectTimeout(e, request\u001b[39m=\u001b[39mrequest)\n\u001b[1;32m    509\u001b[0m \u001b[39mif\u001b[39;00m \u001b[39misinstance\u001b[39m(e\u001b[39m.\u001b[39mreason, ResponseError):\n\u001b[1;32m    510\u001b[0m     \u001b[39mraise\u001b[39;00m RetryError(e, request\u001b[39m=\u001b[39mrequest)\n",
      "\u001b[0;31mConnectTimeout\u001b[0m: HTTPSConnectionPool(host='doi.org', port=443): Max retries exceeded with url: /ra/10.7554 (Caused by ConnectTimeoutError(<urllib3.connection.HTTPSConnection object at 0x1067f9340>, 'Connection to doi.org timed out. (connect timeout=5)'))"
     ]
    }
   ],
   "source": [
    "from commonmeta import Metadata\n",
    "\n",
    "# Fetch metadata from a DOI\n",
    "string = '10.7554/elife.01567'\n",
    "metadata = Metadata(string)\n",
    "\n",
    "# Check that metadata was fetched successfully\n",
    "print(metadata.state)"
   ]
  },
  {
   "attachments": {},
   "cell_type": "markdown",
   "id": "d0444863",
   "metadata": {},
   "source": [
    "## Generate a formatted citation\n",
    "\n",
    "Using the `citation` writer, commonmeta-py can generate a formatted citation for the resource, using one of the citation styles defined in the [Citation Style Language](https://github.com/citation-style-language/styles). The default style is `apa`, which is the American Psychological Association 7th Edition style. The style is not only very popular and well-documented, but is one of only a few styles that has specific support for special content types, such as `dataset` and `software`. And unlike many other styles, it includes the DOI expressed as URL in the citation."
   ]
  },
  {
   "cell_type": "code",
   "execution_count": null,
   "id": "0e35c7d1",
   "metadata": {},
   "outputs": [
    {
     "name": "stdout",
     "output_type": "stream",
     "text": [
      "Sankar, M., Nieminen, K., Ragni, L., Xenarios, I., &amp; Hardtke, C. S. (2014). Automated quantitative histology reveals vascular morphodynamics during Arabidopsis hypocotyl secondary growth. <i>Elife</i>, <i>3</i>. https://doi.org/10.7554/elife.01567\n"
     ]
    }
   ],
   "source": [
    "# Journal Article\n",
    "citation = metadata.citation()\n",
    "print(citation)"
   ]
  },
  {
   "cell_type": "code",
   "execution_count": null,
   "id": "23f2db36",
   "metadata": {},
   "outputs": [
    {
     "name": "stdout",
     "output_type": "stream",
     "text": [
      "Sinop, A. K., &amp; Grady, L. (2007). A Seeded Image Segmentation Framework Unifying Graph Cuts And Random Walker Which Yields A New Algorithm. <i>2007 IEEE 11th International Conference on Computer Vision</i>. https://doi.org/10.1109/iccv.2007.4408927\n"
     ]
    }
   ],
   "source": [
    "# Conference Proceedings\n",
    "metadata = Metadata('10.1109/iccv.2007.4408927')\n",
    "citation = metadata.citation()\n",
    "print(citation)"
   ]
  },
  {
   "cell_type": "code",
   "execution_count": null,
   "id": "5eef51fe",
   "metadata": {},
   "outputs": [
    {
     "name": "stdout",
     "output_type": "stream",
     "text": [
      "Chen, L., Panin, G., &amp; Knoll, A. (2012). Human Body Orientation Estimation in Multiview Scenarios. In <i>Advances in Visual Computing</i> (pp. 499–508). Springer Berlin Heidelberg. https://doi.org/10.1007/978-3-642-33191-6_49\n"
     ]
    }
   ],
   "source": [
    "# Book Chapter\n",
    "metadata = Metadata('10.1007/978-3-642-33191-6_49')\n",
    "citation = metadata.citation()\n",
    "print(citation)"
   ]
  },
  {
   "cell_type": "code",
   "execution_count": null,
   "id": "8b43ad16",
   "metadata": {},
   "outputs": [
    {
     "name": "stdout",
     "output_type": "stream",
     "text": [
      "Ollomo, B., Durand, P., Prugnolle, F., Douzery, E. J. P., Arnathau, C., Nkoghe, D., Leroy, E., &amp; Renaud, F. (2011). <i>Data from: A new malaria agent in African hominids.</i> (Version 1) [Data set]. Dryad. https://doi.org/10.5061/dryad.8515\n"
     ]
    }
   ],
   "source": [
    "# Dataset\n",
    "metadata = Metadata('10.5061/dryad.8515')\n",
    "citation = metadata.citation()\n",
    "print(citation)"
   ]
  },
  {
   "cell_type": "code",
   "execution_count": null,
   "id": "6f52aa82",
   "metadata": {},
   "outputs": [
    {
     "name": "stdout",
     "output_type": "stream",
     "text": [
      "Garza, K. (2016). <i>Analysis Tools For Crossover Experiment Of Ui Using Choice Architecture</i>. Zenodo. https://doi.org/10.5281/zenodo.48440\n"
     ]
    }
   ],
   "source": [
    "# Software\n",
    "# TODO properly handle software type\n",
    "metadata = Metadata('10.5281/zenodo.48440')\n",
    "citation = metadata.citation()\n",
    "print(citation)"
   ]
  },
  {
   "attachments": {},
   "cell_type": "markdown",
   "id": "aac369fe",
   "metadata": {},
   "source": [
    "## Popular Citation Styles\n",
    "\n",
    "Let's try out a few popular citation styles:"
   ]
  },
  {
   "cell_type": "code",
   "execution_count": null,
   "id": "7945d349",
   "metadata": {},
   "outputs": [
    {
     "name": "stdout",
     "output_type": "stream",
     "text": [
      "1. Sankar M, Nieminen K, Ragni L, Xenarios I, Hardtke CS. Automated quantitative histology reveals vascular morphodynamics during Arabidopsis hypocotyl secondary growth. <i>eLife</i>. 2014;3. doi:10.7554/elife.01567\n"
     ]
    }
   ],
   "source": [
    "# let fetch the original metadata again\n",
    "metadata = Metadata('10.7554/elife.01567')\n",
    "\n",
    "# American Medical Association (AMA) style\n",
    "metadata.style = 'american-medical-association'\n",
    "citation = metadata.citation()\n",
    "print(citation)"
   ]
  },
  {
   "cell_type": "code",
   "execution_count": null,
   "id": "f6388908",
   "metadata": {},
   "outputs": [
    {
     "name": "stdout",
     "output_type": "stream",
     "text": [
      "[1]M. Sankar, K. Nieminen, L. Ragni, I. Xenariosand C. S. Hardtke, “Automated quantitative histology reveals vascular morphodynamics during Arabidopsis hypocotyl secondary growth”, <i>eLife</i>, vol. 3, Feb. 2014, doi: 10.7554/elife.01567.\n"
     ]
    }
   ],
   "source": [
    "# IEEE\n",
    "metadata.style = 'ieee'\n",
    "citation = metadata.citation()\n",
    "print(citation)"
   ]
  },
  {
   "cell_type": "code",
   "execution_count": null,
   "id": "2f10dc4f",
   "metadata": {},
   "outputs": [
    {
     "name": "stdout",
     "output_type": "stream",
     "text": [
      "Sankar, Martial, Kaisa Nieminen, Laura Ragni, Ioannis Xenarios, and Christian S Hardtke. 2014. “Automated Quantitative Histology Reveals Vascular Morphodynamics During Arabidopsis Hypocotyl Secondary Growth”. <i>Elife</i> 3 (February). https://doi.org/10.7554/elife.01567.\n"
     ]
    }
   ],
   "source": [
    "# Chicago Manual of Style 17th Edition (author-date)\n",
    "metadata.style = 'chicago-author-date'\n",
    "citation = metadata.citation()\n",
    "print(citation)"
   ]
  },
  {
   "attachments": {},
   "cell_type": "markdown",
   "id": "e23d5c6b",
   "metadata": {},
   "source": [
    "## Citation Locales\n",
    "\n",
    "The other option in the citation writer is the *locale*, which is the language in which the citation is written (words like dates, not the metadata that comes from Crossref). The default locale is `en-US`, we use `es-ES` here. The locales are defined in the [Citation Style Language repository](https://github.com/citation-style-language/locales). I am using an example from Crossref where the metadata are also in Spanish."
   ]
  },
  {
   "cell_type": "code",
   "execution_count": null,
   "id": "fd476a35",
   "metadata": {},
   "outputs": [
    {
     "name": "stdout",
     "output_type": "stream",
     "text": [
      "Laborde, F. <i>Biografía De Juan Bautista Alberdi</i>. Fundación Ignacio Larramendi, 2010, doi:10.18558/fil026.\n"
     ]
    }
   ],
   "source": [
    "metadata = Metadata(\"10.18558/fil026\")\n",
    "metadata.locale = 'es-ES'\n",
    "metadata.style = 'modern-language-association'\n",
    "citation = metadata.citation()\n",
    "print(citation)"
   ]
  }
 ],
 "metadata": {
  "kernelspec": {
   "display_name": "Python 3",
   "language": "python",
   "name": "python3"
  },
  "language_info": {
   "codemirror_mode": {
    "name": "ipython",
    "version": 3
   },
   "file_extension": ".py",
   "mimetype": "text/x-python",
   "name": "python",
   "nbconvert_exporter": "python",
   "pygments_lexer": "ipython3",
   "version": "3.9.16"
  },
  "vscode": {
   "interpreter": {
    "hash": "a665b5d41d17b532ea9890333293a1b812fa0b73c9c25c950b3cedf1bebd0438"
   }
  }
 },
 "nbformat": 4,
 "nbformat_minor": 5
}
