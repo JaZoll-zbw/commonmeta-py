{
 "cells": [
  {
   "attachments": {},
   "cell_type": "markdown",
   "id": "121752b4-5e3f-495a-b76f-8fab3d44b3b5",
   "metadata": {},
   "source": [
    "# Citation Writer\n",
    "\n",
    "This notebook shows how to generate a formatted citation in one of the 1000s of styles supported by the [Citation Style Language](https://citationstyles.org/). The citation is returned as a string in HTML format, supporting a limited subset of HTML tags (such as `<i>` and `<sup>`)."
   ]
  },
  {
   "attachments": {},
   "cell_type": "markdown",
   "id": "b98e79b3",
   "metadata": {},
   "source": [
    "[Download Notebook](https://github.com/front-matter/commonmeta-py/blob/main/docs/writers/citation_writer.ipynb)"
   ]
  },
  {
   "attachments": {},
   "cell_type": "markdown",
   "id": "07d8b988",
   "metadata": {},
   "source": [
    "As with all commonmeta-py notebooks, we start by fetching metadata, in this example a journal article via its Crossref DOI, an then convert them to the internal commonmeta format."
   ]
  },
  {
   "cell_type": "code",
   "execution_count": null,
   "id": "35248b4a",
   "metadata": {},
   "outputs": [],
   "source": [
    "from commonmeta import Metadata\n",
    "\n",
    "# Fetch metadata from a DOI\n",
    "string = '10.7554/elife.01567'\n",
    "metadata = Metadata(string)\n",
    "\n",
    "# Check that metadata was fetched successfully\n",
    "print(metadata.state)"
   ]
  },
  {
   "attachments": {},
   "cell_type": "markdown",
   "id": "d0444863",
   "metadata": {},
   "source": [
    "## Generate a formatted citation\n",
    "\n",
    "Using the `citation` writer, commonmeta-py can generate a formatted citation for the resource, using one of the citation styles defined in the [Citation Style Language](https://github.com/citation-style-language/styles). The default style is `apa`, which is the American Psychological Association 7th Edition style. The style is not only very popular and well-documented, but is one of only a few styles that has specific support for special content types, such as `dataset` and `software`. And unlike many other styles, it includes the DOI expressed as URL in the citation."
   ]
  },
  {
   "cell_type": "code",
   "execution_count": null,
   "id": "0e35c7d1",
   "metadata": {},
   "outputs": [],
   "source": [
    "# Journal Article\n",
    "citation = metadata.citation()\n",
    "print(citation)"
   ]
  },
  {
   "cell_type": "code",
   "execution_count": null,
   "id": "23f2db36",
   "metadata": {},
   "outputs": [],
   "source": [
    "# Conference Proceedings\n",
    "metadata = Metadata('10.1109/iccv.2007.4408927')\n",
    "citation = metadata.citation()\n",
    "print(citation)"
   ]
  },
  {
   "cell_type": "code",
   "execution_count": null,
   "id": "5eef51fe",
   "metadata": {},
   "outputs": [],
   "source": [
    "# Book Chapter\n",
    "metadata = Metadata('10.1007/978-3-642-33191-6_49')\n",
    "citation = metadata.citation()\n",
    "print(citation)"
   ]
  },
  {
   "cell_type": "code",
   "execution_count": null,
   "id": "8b43ad16",
   "metadata": {},
   "outputs": [],
   "source": [
    "# Dataset\n",
    "metadata = Metadata('10.5061/dryad.8515')\n",
    "citation = metadata.citation()\n",
    "print(citation)"
   ]
  },
  {
   "cell_type": "code",
   "execution_count": null,
   "id": "6f52aa82",
   "metadata": {},
   "outputs": [],
   "source": [
    "# Software\n",
    "# TODO properly handle software type\n",
    "metadata = Metadata('10.5281/zenodo.48440')\n",
    "citation = metadata.citation()\n",
    "print(citation)"
   ]
  },
  {
   "attachments": {},
   "cell_type": "markdown",
   "id": "aac369fe",
   "metadata": {},
   "source": [
    "## Popular Citation Styles\n",
    "\n",
    "Let's try out a few popular citation styles:"
   ]
  },
  {
   "cell_type": "code",
   "execution_count": null,
   "id": "7945d349",
   "metadata": {},
   "outputs": [],
   "source": [
    "# let fetch the original metadata again\n",
    "metadata = Metadata('10.7554/elife.01567')\n",
    "\n",
    "# American Medical Association (AMA) style\n",
    "metadata.style = 'american-medical-association'\n",
    "citation = metadata.citation()\n",
    "print(citation)"
   ]
  },
  {
   "cell_type": "code",
   "execution_count": null,
   "id": "f6388908",
   "metadata": {},
   "outputs": [],
   "source": [
    "# IEEE\n",
    "metadata.style = 'ieee'\n",
    "citation = metadata.citation()\n",
    "print(citation)"
   ]
  },
  {
   "cell_type": "code",
   "execution_count": null,
   "id": "2f10dc4f",
   "metadata": {},
   "outputs": [],
   "source": [
    "# Chicago Manual of Style 17th Edition (author-date)\n",
    "metadata.style = 'chicago-author-date'\n",
    "citation = metadata.citation()\n",
    "print(citation)"
   ]
  },
  {
   "attachments": {},
   "cell_type": "markdown",
   "id": "e23d5c6b",
   "metadata": {},
   "source": [
    "## Citation Locales\n",
    "\n",
    "The other option in the citation writer is the *locale*, which is the language in which the citation is written (words like dates, not the metadata that comes from Crossref). The default locale is `en-US`, we use `es-ES` here. The locales are defined in the [Citation Style Language repository](https://github.com/citation-style-language/locales). I am using an example from Crossref where the metadata are also in Spanish."
   ]
  },
  {
   "cell_type": "code",
   "execution_count": null,
   "id": "fd476a35",
   "metadata": {},
   "outputs": [],
   "source": [
    "metadata = Metadata(\"10.18558/fil026\")\n",
    "metadata.locale = 'es-ES'\n",
    "metadata.style = 'modern-language-association'\n",
    "citation = metadata.citation()\n",
    "print(citation)"
   ]
  }
 ],
 "metadata": {
  "kernelspec": {
   "display_name": "Python 3",
   "language": "python",
   "name": "python3"
  },
  "language_info": {
   "codemirror_mode": {
    "name": "ipython",
    "version": 3
   },
   "file_extension": ".py",
   "mimetype": "text/x-python",
   "name": "python",
   "nbconvert_exporter": "python",
   "pygments_lexer": "ipython3",
   "version": "3.9.16"
  },
  "vscode": {
   "interpreter": {
    "hash": "a665b5d41d17b532ea9890333293a1b812fa0b73c9c25c950b3cedf1bebd0438"
   }
  }
 },
 "nbformat": 4,
 "nbformat_minor": 5
}
