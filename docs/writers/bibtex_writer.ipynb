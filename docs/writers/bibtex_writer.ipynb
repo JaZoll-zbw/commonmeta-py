{
 "cells": [
  {
   "attachments": {},
   "cell_type": "markdown",
   "metadata": {},
   "source": [
    "# BibTex Writer\n",
    "\n",
    "This notebook shows how to generate BibTex metadata from a scholarly resource retrieved via a Talbot Reader.\n",
    "\n",
    "As with all Talbot Writer notebooks, we start by importing the Talbot library and fetching metadata, in this example a journal article via its Crossref DOI:"
   ]
  },
  {
   "cell_type": "code",
   "execution_count": null,
   "metadata": {},
   "outputs": [
    {
     "ename": "",
     "evalue": "",
     "output_type": "error",
     "traceback": [
      "\u001b[1;31mDer Kernel konnte nicht gestartet werden. \n",
      "\u001b[1;31mUnhandled error. \n",
      "\u001b[1;31mWeitere Details finden Sie in Jupyter <a href='command:jupyter.viewOutput'>log</a>."
     ]
    }
   ],
   "source": [
    "from talbot import Metadata\n",
    "\n",
    "# Fetch metadata from a DOI\n",
    "doi = '10.7554/elife.01567'\n",
    "metadata = Metadata(doi)\n",
    "\n",
    "# Check that metadata was fetched successfully\n",
    "print(metadata.state)"
   ]
  },
  {
   "attachments": {},
   "cell_type": "markdown",
   "metadata": {},
   "source": [
    "## Generate BibTex\n",
    "\n",
    "We can now generate BibTex metadata from the article metadata. We use the Talbot `pid` (here a `doi`) to generate a BibTex `key`. Because BibTex has been around for more than 30 years, there are many flavours of it, including the list of supported types and the fields that are included. We try to align with the fields supported by Zotero, which is a popular reference manager. We for example include the `abstract`, `copyright` and `language` fields."
   ]
  },
  {
   "cell_type": "code",
   "execution_count": null,
   "metadata": {},
   "outputs": [
    {
     "ename": "",
     "evalue": "",
     "output_type": "error",
     "traceback": [
      "\u001b[1;31mDer Kernel konnte nicht gestartet werden. \n",
      "\u001b[1;31mUnhandled error. \n",
      "\u001b[1;31mWeitere Details finden Sie in Jupyter <a href='command:jupyter.viewOutput'>log</a>."
     ]
    }
   ],
   "source": [
    "bibtex = metadata.bibtex()\n",
    "print(bibtex)"
   ]
  },
  {
   "attachments": {},
   "cell_type": "markdown",
   "metadata": {},
   "source": [
    "## Supported BibTex Types\n",
    "\n",
    "Talbot supports the following BibTex types and maps them internally to ´types.bibtex`: `article`, `book`, `booklet`, `conference`, `inbook`, `incollection`, `inproceedings`, `manual`, `mastersthesis`, `misc`, `phdthesis`, `proceedings`, `techreport`, `unpublished`. Types that are not supported are mapped to `misc`, and that includes `software` and `dataset`, which were not part of the original BibTex specification. Below are examples of BibTex metadata for types other than `article`:"
   ]
  },
  {
   "cell_type": "code",
   "execution_count": null,
   "metadata": {},
   "outputs": [
    {
     "ename": "",
     "evalue": "",
     "output_type": "error",
     "traceback": [
      "\u001b[1;31mDer Kernel konnte nicht gestartet werden. \n",
      "\u001b[1;31mUnhandled error. \n",
      "\u001b[1;31mWeitere Details finden Sie in Jupyter <a href='command:jupyter.viewOutput'>log</a>."
     ]
    }
   ],
   "source": [
    "# Book chapter\n",
    "# TODO: Fix bibtex type\n",
    "metadata = Metadata('10.1007/978-3-662-46370-3_13')\n",
    "bibtex = metadata.bibtex()\n",
    "print(bibtex)"
   ]
  },
  {
   "cell_type": "code",
   "execution_count": null,
   "metadata": {},
   "outputs": [
    {
     "ename": "",
     "evalue": "",
     "output_type": "error",
     "traceback": [
      "\u001b[1;31mDer Kernel konnte nicht gestartet werden. \n",
      "\u001b[1;31mUnhandled error. \n",
      "\u001b[1;31mWeitere Details finden Sie in Jupyter <a href='command:jupyter.viewOutput'>log</a>."
     ]
    }
   ],
   "source": [
    "# Conference Proceedings\n",
    "# TODO: Fix bibtex type\n",
    "metadata = Metadata('10.1109/iccv.2007.4408927')\n",
    "bibtex = metadata.bibtex()\n",
    "print(bibtex)"
   ]
  },
  {
   "cell_type": "code",
   "execution_count": null,
   "metadata": {},
   "outputs": [
    {
     "ename": "",
     "evalue": "",
     "output_type": "error",
     "traceback": [
      "\u001b[1;31mDer Kernel konnte nicht gestartet werden. \n",
      "\u001b[1;31mUnhandled error. \n",
      "\u001b[1;31mWeitere Details finden Sie in Jupyter <a href='command:jupyter.viewOutput'>log</a>."
     ]
    }
   ],
   "source": [
    "# PhD thesis\n",
    "# TODO: Fix bibtex type\n",
    "metadata = Metadata('10.14264/uql.2020.791')\n",
    "bibtex = metadata.bibtex()\n",
    "print(bibtex)"
   ]
  },
  {
   "attachments": {},
   "cell_type": "markdown",
   "metadata": {},
   "source": [
    "## BibTex Author names\n",
    "\n",
    "BibTex writes author names as a single string, joined by `and`. Personal names are written as `family, given` and organizational names as `name`. An example for the latter:"
   ]
  },
  {
   "cell_type": "code",
   "execution_count": null,
   "metadata": {},
   "outputs": [
    {
     "ename": "",
     "evalue": "",
     "output_type": "error",
     "traceback": [
      "\u001b[1;31mDer Kernel konnte nicht gestartet werden. \n",
      "\u001b[1;31mUnhandled error. \n",
      "\u001b[1;31mWeitere Details finden Sie in Jupyter <a href='command:jupyter.viewOutput'>log</a>."
     ]
    }
   ],
   "source": [
    "# Organizations as authors\n",
    "metadata = Metadata('10.26301/qdpd-2250')\n",
    "bibtex = metadata.bibtex()\n",
    "print(bibtex)"
   ]
  }
 ],
 "metadata": {
  "kernelspec": {
   "display_name": "Python 3",
   "language": "python",
   "name": "python3"
  },
  "language_info": {
   "codemirror_mode": {
    "name": "ipython",
    "version": 3
   },
   "file_extension": ".py",
   "mimetype": "text/x-python",
   "name": "python",
   "nbconvert_exporter": "python",
   "pygments_lexer": "ipython3",
   "version": "3.9.9"
  },
  "orig_nbformat": 4,
  "vscode": {
   "interpreter": {
    "hash": "737c62f48720453199cecb0c73cf20e643f4c62974b26a046a741d1e92da10e9"
   }
  }
 },
 "nbformat": 4,
 "nbformat_minor": 2
}
