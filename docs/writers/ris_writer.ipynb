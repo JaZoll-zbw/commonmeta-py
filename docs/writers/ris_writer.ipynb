{
 "cells": [
  {
   "attachments": {},
   "cell_type": "markdown",
   "metadata": {},
   "source": [
    "# RIS Writer\n",
    "\n",
    "This notebook shows how to generate RIS metadata from a scholarly resource retrieved via a Talbot Reader. RIS metadata can be imported into reference managers such as Zotero, Mendeley, and EndNote.\n",
    "\n",
    "As with all Talbot Writer notebooks, we start by importing the Talbot library and fetching metadata, in this example a journal article via its Crossref DOI:"
   ]
  },
  {
   "cell_type": "code",
   "execution_count": 1,
   "metadata": {},
   "outputs": [
    {
     "name": "stdout",
     "output_type": "stream",
     "text": [
      "findable\n"
     ]
    }
   ],
   "source": [
    "from talbot import Metadata\n",
    "\n",
    "# Fetch metadata from a DOI\n",
    "string = '10.7554/elife.01567'\n",
    "metadata = Metadata(string)\n",
    "\n",
    "# Check that metadata was fetched successfully\n",
    "print(metadata.state)"
   ]
  },
  {
   "attachments": {},
   "cell_type": "markdown",
   "metadata": {},
   "source": [
    "## Generate RIS\n",
    "\n",
    "We can now generate RIS metadata from the article metadata."
   ]
  },
  {
   "cell_type": "code",
   "execution_count": 2,
   "metadata": {},
   "outputs": [
    {
     "name": "stdout",
     "output_type": "stream",
     "text": [
      "TY  - JOUR\n",
      "T1  - Automated quantitative histology reveals vascular morphodynamics during Arabidopsis hypocotyl secondary growth\n",
      "T2  - eLife\n",
      "AU  - Sankar, Martial\n",
      "AU  - Nieminen, Kaisa\n",
      "AU  - Ragni, Laura\n",
      "AU  - Xenarios, Ioannis\n",
      "AU  - Hardtke, Christian S\n",
      "DO  - 10.7554/elife.01567\n",
      "UR  - https://elifesciences.org/articles/01567\n",
      "AB  - Among various advantages, their small size makes model organisms preferred subjects of investigation. Yet, even in model systems detailed analysis of numerous developmental processes at cellular level is severely hampered by their scale. For instance, secondary growth of Arabidopsis hypocotyls creates a radial pattern of highly specialized tissues that comprises several thousand cells starting from a few dozen. This dynamic process is difficult to follow because of its scale and because it can only be investigated invasively, precluding comprehensive understanding of the cell proliferation, differentiation, and patterning events involved. To overcome such limitation, we established an automated quantitative histology approach. We acquired hypocotyl cross-sections from tiled high-resolution images and extracted their information content using custom high-throughput image processing and segmentation. Coupled with automated cell type recognition through machine learning, we could establish a cellular resolution atlas that reveals vascular morphodynamics during secondary growth, for example equidistant phloem pole formation.\n",
      "KW  - General Immunology and Microbiology\n",
      "KW  - General Biochemistry, Genetics and Molecular Biology\n",
      "KW  - General Medicine\n",
      "KW  - General Neuroscience\n",
      "PY  - 2014\n",
      "PB  - eLife Sciences Publications, Ltd\n",
      "LA  - en\n",
      "VL  - 3\n",
      "ER  - \n"
     ]
    }
   ],
   "source": [
    "ris = metadata.ris()\n",
    "print(ris)"
   ]
  }
 ],
 "metadata": {
  "kernelspec": {
   "display_name": "Python 3",
   "language": "python",
   "name": "python3"
  },
  "language_info": {
   "codemirror_mode": {
    "name": "ipython",
    "version": 3
   },
   "file_extension": ".py",
   "mimetype": "text/x-python",
   "name": "python",
   "nbconvert_exporter": "python",
   "pygments_lexer": "ipython3",
   "version": "3.9.9"
  },
  "orig_nbformat": 4,
  "vscode": {
   "interpreter": {
    "hash": "737c62f48720453199cecb0c73cf20e643f4c62974b26a046a741d1e92da10e9"
   }
  }
 },
 "nbformat": 4,
 "nbformat_minor": 2
}
