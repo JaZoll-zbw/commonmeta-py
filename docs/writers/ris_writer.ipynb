{
 "cells": [
  {
   "attachments": {},
   "cell_type": "markdown",
   "metadata": {},
   "source": [
    "# RIS Writer\n",
    "\n",
    "This notebook shows how to generate RIS metadata from a scholarly resource retrieved via a commonmeta-py. RIS metadata can be imported into reference managers such as Zotero, Mendeley, and EndNote."
   ]
  },
  {
   "attachments": {},
   "cell_type": "markdown",
   "metadata": {},
   "source": [
    "[Download Notebook](https://github.com/front-matter/commonmeta-py/blob/main/docs/writers/ris_writer.ipynb)"
   ]
  },
  {
   "attachments": {},
   "cell_type": "markdown",
   "metadata": {},
   "source": [
    "As with all commonmeta-py notebooks, we start by fetching metadata, in this example a journal article via its Crossref DOI, and convert them to the internal commonmeta format."
   ]
  },
  {
   "cell_type": "code",
   "execution_count": null,
   "metadata": {},
   "outputs": [],
   "source": [
    "from commonmeta import Metadata\n",
    "\n",
    "# Fetch metadata from a DOI\n",
    "string = '10.7554/elife.01567'\n",
    "metadata = Metadata(string)\n",
    "\n",
    "# Check that metadata was fetched successfully\n",
    "print(metadata.state)"
   ]
  },
  {
   "attachments": {},
   "cell_type": "markdown",
   "metadata": {},
   "source": [
    "## Generate RIS\n",
    "\n",
    "We can now generate RIS metadata from the article metadata."
   ]
  },
  {
   "cell_type": "code",
   "execution_count": null,
   "metadata": {},
   "outputs": [],
   "source": [
    "ris = metadata.ris()\n",
    "print(ris)"
   ]
  }
 ],
 "metadata": {
  "kernelspec": {
   "display_name": "Python 3",
   "language": "python",
   "name": "python3"
  },
  "language_info": {
   "codemirror_mode": {
    "name": "ipython",
    "version": 3
   },
   "file_extension": ".py",
   "mimetype": "text/x-python",
   "name": "python",
   "nbconvert_exporter": "python",
   "pygments_lexer": "ipython3",
   "version": "3.9.16"
  },
  "vscode": {
   "interpreter": {
    "hash": "a665b5d41d17b532ea9890333293a1b812fa0b73c9c25c950b3cedf1bebd0438"
   }
  }
 },
 "nbformat": 4,
 "nbformat_minor": 2
}
