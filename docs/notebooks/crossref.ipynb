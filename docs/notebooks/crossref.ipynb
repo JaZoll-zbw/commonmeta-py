{
 "cells": [
  {
   "attachments": {},
   "cell_type": "markdown",
   "id": "121752b4-5e3f-495a-b76f-8fab3d44b3b5",
   "metadata": {},
   "source": [
    "# Crossref Reader\n",
    "\n",
    "This notebook shows how to fetch information about a specific resource identified by its DOI. The information is returned as a Python dictionary."
   ]
  },
  {
   "cell_type": "code",
   "execution_count": 10,
   "id": "c9aff948-62d9-43a5-a7b7-c0da8541c791",
   "metadata": {},
   "outputs": [
    {
     "name": "stdout",
     "output_type": "stream",
     "text": [
      "https://doi.org/10.7554/elife.01567\n"
     ]
    }
   ],
   "source": [
    "from talbot import Metadata\n",
    "\n",
    "# instead of a DOI string, we can also use the DOI expressed as URL:\n",
    "# doi = 'https://doi.org/10.7554/elife.01567'\n",
    "doi = '10.7554/elife.01567'\n",
    "metadata = Metadata(doi)\n",
    "\n",
    "# Make sure the API call was successful\n",
    "print(metadata.pid)\n"
   ]
  },
  {
   "attachments": {},
   "cell_type": "markdown",
   "id": "f10323e5",
   "metadata": {},
   "source": [
    "# Inspect the metadata\n",
    "\n",
    "The following metadata are required for each Crossref resource:\n",
    "\n",
    "* `doi`: the persistent identifier of the resource\n",
    "* `titles`: the title(s) of the resource\n",
    "* `creators`: the creator(s)/author(s) of the resource\n",
    "* `publisher`: the publisher of the resource\n",
    "* `publication_year`: the publication year of the resource\n",
    "* `types`: the type of the resource, as defined by Crossref e.g. `journal-article`, `book`, `book-chapter`, `posted-content`. Also available in other metadata formts."
   ]
  },
  {
   "cell_type": "code",
   "execution_count": 11,
   "id": "82fc4845",
   "metadata": {},
   "outputs": [
    {
     "name": "stdout",
     "output_type": "stream",
     "text": [
      "[{'title': 'Automated quantitative histology reveals vascular morphodynamics during Arabidopsis hypocotyl secondary growth'}]\n",
      "[{'nameType': 'Personal', 'givenName': 'Martial', 'familyName': 'Sankar', 'affiliation': [{'name': 'Department of Plant Molecular Biology, University of Lausanne, Lausanne, Switzerland'}]}, {'nameType': 'Personal', 'givenName': 'Kaisa', 'familyName': 'Nieminen', 'affiliation': [{'name': 'Department of Plant Molecular Biology, University of Lausanne, Lausanne, Switzerland'}]}, {'nameType': 'Personal', 'givenName': 'Laura', 'familyName': 'Ragni', 'affiliation': [{'name': 'Department of Plant Molecular Biology, University of Lausanne, Lausanne, Switzerland'}]}, {'nameType': 'Personal', 'givenName': 'Ioannis', 'familyName': 'Xenarios', 'affiliation': [{'name': 'Vital-IT, Swiss Institute of Bioinformatics, Lausanne, Switzerland'}]}, {'nameType': 'Personal', 'givenName': 'Christian S', 'familyName': 'Hardtke', 'affiliation': [{'name': 'Department of Plant Molecular Biology, University of Lausanne, Lausanne, Switzerland'}]}]\n",
      "eLife Sciences Publications, Ltd\n"
     ]
    }
   ],
   "source": [
    "print(metadata.titles)\n",
    "print(metadata.creators)\n",
    "print(metadata.publisher)"
   ]
  },
  {
   "attachments": {},
   "cell_type": "markdown",
   "id": "d0444863",
   "metadata": {},
   "source": [
    "## Generate a formatted citation\n",
    "\n",
    "Using the `citation` format, Talbot can generate a formatted citation for the resource. The citation style is defined by the `style` parameter. The default style is `apa`, we use `vancouver` here."
   ]
  },
  {
   "cell_type": "code",
   "execution_count": null,
   "id": "0e35c7d1",
   "metadata": {},
   "outputs": [],
   "source": [
    "metadata.style = 'vancouver'\n",
    "citation = metadata.write_citation()\n",
    "print(citation)"
   ]
  }
 ],
 "metadata": {
  "kernelspec": {
   "display_name": "Python 3",
   "language": "python",
   "name": "python3"
  },
  "language_info": {
   "codemirror_mode": {
    "name": "ipython",
    "version": 3
   },
   "file_extension": ".py",
   "mimetype": "text/x-python",
   "name": "python",
   "nbconvert_exporter": "python",
   "pygments_lexer": "ipython3",
   "version": "3.9.9"
  },
  "vscode": {
   "interpreter": {
    "hash": "737c62f48720453199cecb0c73cf20e643f4c62974b26a046a741d1e92da10e9"
   }
  }
 },
 "nbformat": 4,
 "nbformat_minor": 5
}
