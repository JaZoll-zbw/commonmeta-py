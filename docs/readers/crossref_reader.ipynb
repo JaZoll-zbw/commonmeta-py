{
 "cells": [
  {
   "attachments": {},
   "cell_type": "markdown",
   "metadata": {},
   "source": [
    "# Crossref Reader\n",
    "\n",
    "This notebook shows how to read metadata from Crossref, using a Crossref DOI."
   ]
  },
  {
   "cell_type": "code",
   "execution_count": 2,
   "metadata": {},
   "outputs": [],
   "source": [
    "from talbot import Metadata\n",
    "\n",
    "# Fetch metadata from a DOI\n",
    "doi = '10.7554/elife.01567'\n",
    "metadata = Metadata(doi)"
   ]
  },
  {
   "attachments": {},
   "cell_type": "markdown",
   "metadata": {},
   "source": [
    "## Inspect the metadata\n",
    "\n",
    "The following metadata are required for each Crossref resource:\n",
    "\n",
    "* `doi`: the persistent identifier of the resource\n",
    "* `titles`: the title(s) of the resource\n",
    "* `creators`: the creator(s)/author(s) of the resource\n",
    "* `publisher`: the publisher of the resource\n",
    "* `publication_year`: the publication year of the resource\n",
    "* `types`: the type of the resource, as [defined by Crossref](http://api.crossref.org/types) e.g. `journal-article`, `book`, `book-chapter`, `posted-content`. Also mapped to other metadata formats to faciliate metadata conversion."
   ]
  },
  {
   "cell_type": "code",
   "execution_count": 4,
   "metadata": {},
   "outputs": [
    {
     "name": "stdout",
     "output_type": "stream",
     "text": [
      "10.7554/elife.01567\n",
      "[{'title': 'Automated quantitative histology reveals vascular morphodynamics during Arabidopsis hypocotyl secondary growth'}]\n",
      "[{'nameType': 'Personal', 'givenName': 'Martial', 'familyName': 'Sankar', 'affiliation': [{'name': 'Department of Plant Molecular Biology, University of Lausanne, Lausanne, Switzerland'}]}, {'nameType': 'Personal', 'givenName': 'Kaisa', 'familyName': 'Nieminen', 'affiliation': [{'name': 'Department of Plant Molecular Biology, University of Lausanne, Lausanne, Switzerland'}]}, {'nameType': 'Personal', 'givenName': 'Laura', 'familyName': 'Ragni', 'affiliation': [{'name': 'Department of Plant Molecular Biology, University of Lausanne, Lausanne, Switzerland'}]}, {'nameType': 'Personal', 'givenName': 'Ioannis', 'familyName': 'Xenarios', 'affiliation': [{'name': 'Vital-IT, Swiss Institute of Bioinformatics, Lausanne, Switzerland'}]}, {'nameType': 'Personal', 'givenName': 'Christian S', 'familyName': 'Hardtke', 'affiliation': [{'name': 'Department of Plant Molecular Biology, University of Lausanne, Lausanne, Switzerland'}]}]\n",
      "eLife Sciences Publications, Ltd\n",
      "2014\n",
      "{'resourceTypeGeneral': 'JournalArticle', 'resourceType': 'JournalArticle', 'schemaOrg': 'ScholarlyArticle', 'citeproc': 'article-journal', 'bibtex': 'article', 'ris': 'JOUR'}\n"
     ]
    }
   ],
   "source": [
    "print(metadata.doi)\n",
    "print(metadata.titles)\n",
    "print(metadata.creators)\n",
    "print(metadata.publisher)\n",
    "print(metadata.publication_year)\n",
    "print(metadata.types)"
   ]
  },
  {
   "attachments": {},
   "cell_type": "markdown",
   "metadata": {},
   "source": [
    "In addition, there are plenty of optional metadata. They are converted into a standardized format used by Talbot internally. One example is the `licence` which is mapped to the Software Package Data Exchange ([SPDX](https://spdx.dev/)) vocabulary. For the publication from *eLife* we fetched earlier, this means a CC-BY license:"
   ]
  },
  {
   "cell_type": "code",
   "execution_count": 5,
   "metadata": {},
   "outputs": [
    {
     "name": "stdout",
     "output_type": "stream",
     "text": [
      "[{'rights': 'Creative Commons Attribution 3.0 Unported', 'rightsUri': 'https://creativecommons.org/licenses/by/3.0/legalcode', 'rightsIdentifier': 'cc-by-3.0', 'rightsIdentifierScheme': 'SPDX', 'schemeUri': 'https://spdx.org/licenses/'}]\n"
     ]
    }
   ],
   "source": [
    "print(metadata.rights)"
   ]
  }
 ],
 "metadata": {
  "kernelspec": {
   "display_name": "Python 3",
   "language": "python",
   "name": "python3"
  },
  "language_info": {
   "codemirror_mode": {
    "name": "ipython",
    "version": 3
   },
   "file_extension": ".py",
   "mimetype": "text/x-python",
   "name": "python",
   "nbconvert_exporter": "python",
   "pygments_lexer": "ipython3",
   "version": "3.9.9"
  },
  "orig_nbformat": 4,
  "vscode": {
   "interpreter": {
    "hash": "737c62f48720453199cecb0c73cf20e643f4c62974b26a046a741d1e92da10e9"
   }
  }
 },
 "nbformat": 4,
 "nbformat_minor": 2
}
