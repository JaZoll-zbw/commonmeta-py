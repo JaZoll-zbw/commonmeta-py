{
 "cells": [
  {
   "attachments": {},
   "cell_type": "markdown",
   "metadata": {},
   "source": [
    "# CFF Reader\n",
    "\n",
    "This notebook shows how to read metadata from [Citation File Format (CFF)](https://citation-file-format.github.io/)."
   ]
  },
  {
   "attachments": {},
   "cell_type": "markdown",
   "metadata": {},
   "source": [
    "[Download Notebook](https://github.com/front-matter/commonmeta-py/blob/main/docs/readers/cff_reader.ipynb)"
   ]
  },
  {
   "cell_type": "code",
   "execution_count": null,
   "metadata": {},
   "outputs": [],
   "source": [
    "import os\n",
    "import sys\n",
    "print(sys.path)\n",
    "from commonmeta import Metadata\n",
    "# Fetch metadata from a GitHub repository that contains a CITATION.cff file\n",
    "string = 'https://github.com/kyleliang919/Long-context-transformers'\n",
    "metadata = Metadata(string)\n",
    "\n",
    "# Check that metadata was fetched successfully\n",
    "print(metadata.state)"
   ]
  },
  {
   "attachments": {},
   "cell_type": "markdown",
   "metadata": {},
   "source": [
    "## Inspect the metadata\n",
    "\n",
    "The following metadata are required to register a DataCite DOI for a resource:\n",
    "\n",
    "* `doi`: the persistent identifier of the resource\n",
    "* `titles`: the title(s) of the resource\n",
    "* `creators`: the creator(s)/author(s) of the resource\n",
    "* `publisher`: the publisher of the resource\n",
    "* `publication_year`: the publication year of the resource\n",
    "* `types`: the type of the resource. Also mapped to other metadata formats to faciliate metadata conversion."
   ]
  },
  {
   "cell_type": "code",
   "execution_count": null,
   "metadata": {},
   "outputs": [],
   "source": [
    "print(metadata.doi)\n",
    "print(metadata.titles)\n",
    "print(metadata.creators)\n",
    "print(metadata.publisher)\n",
    "print(metadata.publication_year)\n",
    "print(metadata.types)"
   ]
  },
  {
   "cell_type": "code",
   "execution_count": null,
   "metadata": {},
   "outputs": [],
   "source": [
    "citation = metadata.citation()\n",
    "print(citation)"
   ]
  }
 ],
 "metadata": {
  "kernelspec": {
   "display_name": "Python 3",
   "language": "python",
   "name": "python3"
  },
  "language_info": {
   "codemirror_mode": {
    "name": "ipython",
    "version": 3
   },
   "file_extension": ".py",
   "mimetype": "text/x-python",
   "name": "python",
   "nbconvert_exporter": "python",
   "pygments_lexer": "ipython3",
   "version": "3.9.16"
  },
  "vscode": {
   "interpreter": {
    "hash": "a665b5d41d17b532ea9890333293a1b812fa0b73c9c25c950b3cedf1bebd0438"
   }
  }
 },
 "nbformat": 4,
 "nbformat_minor": 2
}
