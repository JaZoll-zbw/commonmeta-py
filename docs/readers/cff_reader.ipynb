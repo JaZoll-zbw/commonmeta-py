{
 "cells": [
  {
   "attachments": {},
   "cell_type": "markdown",
   "metadata": {},
   "source": [
    "# CFF Reader\n",
    "\n",
    "This notebook shows how to read metadata from [Citation File Format (CFF)](https://citation-file-format.github.io/)."
   ]
  },
  {
   "attachments": {},
   "cell_type": "markdown",
   "metadata": {},
   "source": [
    "[Download Notebook](https://github.com/front-matter/talbot/blob/main/docs/readers/cff_reader.ipynb)"
   ]
  },
  {
   "cell_type": "code",
   "execution_count": 9,
   "metadata": {},
   "outputs": [
    {
     "name": "stdout",
     "output_type": "stream",
     "text": [
      "None\n",
      "None\n"
     ]
    }
   ],
   "source": [
    "from talbot import Metadata\n",
    "\n",
    "# Fetch metadata from a GitHub repository that contains a CITATION.cff file\n",
    "string = 'https://github.com/kyleliang919/Long-context-transformers'\n",
    "metadata = Metadata(string)\n",
    "\n",
    "# Check that metadata was fetched successfully\n",
    "print(metadata.state)"
   ]
  },
  {
   "attachments": {},
   "cell_type": "markdown",
   "metadata": {},
   "source": [
    "## Inspect the metadata\n",
    "\n",
    "The following metadata are required to register a DataCite DOI for a resource:\n",
    "\n",
    "* `doi`: the persistent identifier of the resource\n",
    "* `titles`: the title(s) of the resource\n",
    "* `creators`: the creator(s)/author(s) of the resource\n",
    "* `publisher`: the publisher of the resource\n",
    "* `publication_year`: the publication year of the resource\n",
    "* `types`: the type of the resource. Also mapped to other metadata formats to faciliate metadata conversion."
   ]
  },
  {
   "cell_type": "code",
   "execution_count": 10,
   "metadata": {},
   "outputs": [
    {
     "name": "stdout",
     "output_type": "stream",
     "text": [
      "None\n",
      "[{'title': 'GitHub - kyleliang919/Long-context-transformers: Exploring finetuning public checkpoints on filter 8K sequences on Pile'}]\n",
      "None\n",
      "GitHub\n",
      "None\n",
      "{'schemaOrg': 'Object', 'citeproc': 'article-journal', 'bibtex': 'misc', 'ris': 'GEN'}\n"
     ]
    }
   ],
   "source": [
    "print(metadata.doi)\n",
    "print(metadata.titles)\n",
    "print(metadata.creators)\n",
    "print(metadata.publisher)\n",
    "print(metadata.publication_year)\n",
    "print(metadata.types)"
   ]
  },
  {
   "cell_type": "code",
   "execution_count": 11,
   "metadata": {},
   "outputs": [
    {
     "ename": "ValueError",
     "evalue": "invalid literal for int() with base 10: 'None'",
     "output_type": "error",
     "traceback": [
      "\u001b[0;31m---------------------------------------------------------------------------\u001b[0m",
      "\u001b[0;31mValueError\u001b[0m                                Traceback (most recent call last)",
      "Cell \u001b[0;32mIn[11], line 1\u001b[0m\n\u001b[0;32m----> 1\u001b[0m citation \u001b[39m=\u001b[39m metadata\u001b[39m.\u001b[39;49mcitation()\n\u001b[1;32m      2\u001b[0m \u001b[39mprint\u001b[39m(citation)\n",
      "File \u001b[0;32m~/.pyenv/versions/3.9.9/lib/python3.9/site-packages/talbot/metadata/metadata.py:116\u001b[0m, in \u001b[0;36mMetadata.citation\u001b[0;34m(self)\u001b[0m\n\u001b[1;32m    114\u001b[0m \u001b[39mdef\u001b[39;00m \u001b[39mcitation\u001b[39m(\u001b[39mself\u001b[39m):\n\u001b[1;32m    115\u001b[0m \u001b[39m    \u001b[39m\u001b[39m\"\"\"Citation\"\"\"\u001b[39;00m\n\u001b[0;32m--> 116\u001b[0m     \u001b[39mreturn\u001b[39;00m write_citation(\u001b[39mself\u001b[39;49m)\n",
      "File \u001b[0;32m~/.pyenv/versions/3.9.9/lib/python3.9/site-packages/talbot/writers/citation_writer.py:21\u001b[0m, in \u001b[0;36mwrite_citation\u001b[0;34m(metadata)\u001b[0m\n\u001b[1;32m     18\u001b[0m     text \u001b[39m=\u001b[39m re\u001b[39m.\u001b[39msub(\u001b[39mr\u001b[39m\u001b[39m\"\u001b[39m\u001b[39m\\\u001b[39m\u001b[39m.\u001b[39m\u001b[39m\\\u001b[39m\u001b[39m.+\u001b[39m\u001b[39m\"\u001b[39m, \u001b[39m\"\u001b[39m\u001b[39m.\u001b[39m\u001b[39m\"\u001b[39m, text)\n\u001b[1;32m     19\u001b[0m     \u001b[39mreturn\u001b[39;00m text\n\u001b[0;32m---> 21\u001b[0m citeproc_json \u001b[39m=\u001b[39m json\u001b[39m.\u001b[39mloads(metadata\u001b[39m.\u001b[39;49mciteproc())\n\u001b[1;32m     23\u001b[0m \u001b[39m# Remove keys that are not supported by citeproc-py.\u001b[39;00m\n\u001b[1;32m     24\u001b[0m citeproc_json \u001b[39m=\u001b[39m py_\u001b[39m.\u001b[39momit(citeproc_json, \u001b[39m\"\u001b[39m\u001b[39mcopyright\u001b[39m\u001b[39m\"\u001b[39m, \u001b[39m\"\u001b[39m\u001b[39mcategories\u001b[39m\u001b[39m\"\u001b[39m)\n",
      "File \u001b[0;32m~/.pyenv/versions/3.9.9/lib/python3.9/site-packages/talbot/metadata/metadata.py:112\u001b[0m, in \u001b[0;36mMetadata.citeproc\u001b[0;34m(self)\u001b[0m\n\u001b[1;32m    110\u001b[0m \u001b[39mdef\u001b[39;00m \u001b[39mciteproc\u001b[39m(\u001b[39mself\u001b[39m):\n\u001b[1;32m    111\u001b[0m \u001b[39m    \u001b[39m\u001b[39m\"\"\"Citeproc\"\"\"\u001b[39;00m\n\u001b[0;32m--> 112\u001b[0m     \u001b[39mreturn\u001b[39;00m write_citeproc(\u001b[39mself\u001b[39;49m)\n",
      "File \u001b[0;32m~/.pyenv/versions/3.9.9/lib/python3.9/site-packages/talbot/writers/citeproc_writer.py:43\u001b[0m, in \u001b[0;36mwrite_citeproc\u001b[0;34m(metadata)\u001b[0m\n\u001b[1;32m     26\u001b[0m     type_ \u001b[39m=\u001b[39m metadata\u001b[39m.\u001b[39mtypes\u001b[39m.\u001b[39mget(\u001b[39m\"\u001b[39m\u001b[39mciteproc\u001b[39m\u001b[39m\"\u001b[39m, \u001b[39m\"\u001b[39m\u001b[39marticle\u001b[39m\u001b[39m\"\u001b[39m)\n\u001b[1;32m     28\u001b[0m container \u001b[39m=\u001b[39m metadata\u001b[39m.\u001b[39mcontainer \u001b[39mor\u001b[39;00m {}\n\u001b[1;32m     29\u001b[0m dictionary \u001b[39m=\u001b[39m compact(\n\u001b[1;32m     30\u001b[0m     {\n\u001b[1;32m     31\u001b[0m         \u001b[39m\"\u001b[39m\u001b[39mtype\u001b[39m\u001b[39m\"\u001b[39m: type_,\n\u001b[1;32m     32\u001b[0m         \u001b[39m\"\u001b[39m\u001b[39mid\u001b[39m\u001b[39m\"\u001b[39m: metadata\u001b[39m.\u001b[39mpid,\n\u001b[1;32m     33\u001b[0m         \u001b[39m\"\u001b[39m\u001b[39mDOI\u001b[39m\u001b[39m\"\u001b[39m: doi_from_url(metadata\u001b[39m.\u001b[39mpid),\n\u001b[1;32m     34\u001b[0m         \u001b[39m\"\u001b[39m\u001b[39mURL\u001b[39m\u001b[39m\"\u001b[39m: metadata\u001b[39m.\u001b[39murl,\n\u001b[1;32m     35\u001b[0m         \u001b[39m\"\u001b[39m\u001b[39mcategories\u001b[39m\u001b[39m\"\u001b[39m: presence(\n\u001b[1;32m     36\u001b[0m             parse_attributes(\n\u001b[1;32m     37\u001b[0m                 wrap(metadata\u001b[39m.\u001b[39msubjects), content\u001b[39m=\u001b[39m\u001b[39m\"\u001b[39m\u001b[39msubject\u001b[39m\u001b[39m\"\u001b[39m, first\u001b[39m=\u001b[39m\u001b[39mFalse\u001b[39;00m\n\u001b[1;32m     38\u001b[0m             )\n\u001b[1;32m     39\u001b[0m         ),\n\u001b[1;32m     40\u001b[0m         \u001b[39m\"\u001b[39m\u001b[39mlanguage\u001b[39m\u001b[39m\"\u001b[39m: metadata\u001b[39m.\u001b[39mlanguage,\n\u001b[1;32m     41\u001b[0m         \u001b[39m\"\u001b[39m\u001b[39mauthor\u001b[39m\u001b[39m\"\u001b[39m: author,\n\u001b[1;32m     42\u001b[0m         \u001b[39m\"\u001b[39m\u001b[39mcontributor\u001b[39m\u001b[39m\"\u001b[39m: to_citeproc(wrap(metadata\u001b[39m.\u001b[39mcontributors)),\n\u001b[0;32m---> 43\u001b[0m         \u001b[39m\"\u001b[39m\u001b[39missued\u001b[39m\u001b[39m\"\u001b[39m: get_date_parts(\n\u001b[1;32m     44\u001b[0m             get_date_by_type(metadata\u001b[39m.\u001b[39;49mdates, \u001b[39m\"\u001b[39;49m\u001b[39mIssued\u001b[39;49m\u001b[39m\"\u001b[39;49m) \u001b[39mor\u001b[39;49;00m \u001b[39mstr\u001b[39;49m(\n\u001b[1;32m     45\u001b[0m                 metadata\u001b[39m.\u001b[39;49mpublication_year)\n\u001b[1;32m     46\u001b[0m         ),\n\u001b[1;32m     47\u001b[0m         \u001b[39m\"\u001b[39m\u001b[39msubmitted\u001b[39m\u001b[39m\"\u001b[39m: get_date_by_type(metadata\u001b[39m.\u001b[39mdates, \u001b[39m\"\u001b[39m\u001b[39mSubmitted\u001b[39m\u001b[39m\"\u001b[39m),\n\u001b[1;32m     48\u001b[0m         \u001b[39m\"\u001b[39m\u001b[39mabstract\u001b[39m\u001b[39m\"\u001b[39m: parse_attributes(\n\u001b[1;32m     49\u001b[0m             metadata\u001b[39m.\u001b[39mdescriptions, content\u001b[39m=\u001b[39m\u001b[39m\"\u001b[39m\u001b[39mdescription\u001b[39m\u001b[39m\"\u001b[39m, first\u001b[39m=\u001b[39m\u001b[39mTrue\u001b[39;00m\n\u001b[1;32m     50\u001b[0m         ),\n\u001b[1;32m     51\u001b[0m         \u001b[39m\"\u001b[39m\u001b[39mcontainer-title\u001b[39m\u001b[39m\"\u001b[39m: container\u001b[39m.\u001b[39mget(\u001b[39m\"\u001b[39m\u001b[39mtitle\u001b[39m\u001b[39m\"\u001b[39m, \u001b[39mNone\u001b[39;00m),\n\u001b[1;32m     52\u001b[0m         \u001b[39m\"\u001b[39m\u001b[39mvolume\u001b[39m\u001b[39m\"\u001b[39m: container\u001b[39m.\u001b[39mget(\u001b[39m\"\u001b[39m\u001b[39mvolume\u001b[39m\u001b[39m\"\u001b[39m, \u001b[39mNone\u001b[39;00m),\n\u001b[1;32m     53\u001b[0m         \u001b[39m\"\u001b[39m\u001b[39missue\u001b[39m\u001b[39m\"\u001b[39m: container\u001b[39m.\u001b[39mget(\u001b[39m\"\u001b[39m\u001b[39missue\u001b[39m\u001b[39m\"\u001b[39m, \u001b[39mNone\u001b[39;00m),\n\u001b[1;32m     54\u001b[0m         \u001b[39m\"\u001b[39m\u001b[39mpage\u001b[39m\u001b[39m\"\u001b[39m: pages_as_string(container),\n\u001b[1;32m     55\u001b[0m         \u001b[39m\"\u001b[39m\u001b[39mpublisher\u001b[39m\u001b[39m\"\u001b[39m: metadata\u001b[39m.\u001b[39mpublisher,\n\u001b[1;32m     56\u001b[0m         \u001b[39m\"\u001b[39m\u001b[39mtitle\u001b[39m\u001b[39m\"\u001b[39m: parse_attributes(metadata\u001b[39m.\u001b[39mtitles, content\u001b[39m=\u001b[39m\u001b[39m\"\u001b[39m\u001b[39mtitle\u001b[39m\u001b[39m\"\u001b[39m, first\u001b[39m=\u001b[39m\u001b[39mTrue\u001b[39;00m),\n\u001b[1;32m     57\u001b[0m         \u001b[39m\"\u001b[39m\u001b[39mcopyright\u001b[39m\u001b[39m\"\u001b[39m: metadata\u001b[39m.\u001b[39mrights[\u001b[39m0\u001b[39m]\u001b[39m.\u001b[39mget(\u001b[39m\"\u001b[39m\u001b[39mrights\u001b[39m\u001b[39m\"\u001b[39m, \u001b[39mNone\u001b[39;00m)\n\u001b[1;32m     58\u001b[0m         \u001b[39mif\u001b[39;00m metadata\u001b[39m.\u001b[39mrights\n\u001b[1;32m     59\u001b[0m         \u001b[39melse\u001b[39;00m \u001b[39mNone\u001b[39;00m,\n\u001b[1;32m     60\u001b[0m         \u001b[39m\"\u001b[39m\u001b[39mversion\u001b[39m\u001b[39m\"\u001b[39m: metadata\u001b[39m.\u001b[39mversion,\n\u001b[1;32m     61\u001b[0m     }\n\u001b[1;32m     62\u001b[0m )\n\u001b[1;32m     63\u001b[0m \u001b[39mreturn\u001b[39;00m json\u001b[39m.\u001b[39mdumps(dictionary, indent\u001b[39m=\u001b[39m\u001b[39m4\u001b[39m)\n",
      "File \u001b[0;32m~/.pyenv/versions/3.9.9/lib/python3.9/site-packages/talbot/date_utils.py:57\u001b[0m, in \u001b[0;36mget_date_parts\u001b[0;34m(iso8601_time)\u001b[0m\n\u001b[1;32m     54\u001b[0m \u001b[39mif\u001b[39;00m \u001b[39mlen\u001b[39m(iso8601_time) \u001b[39m<\u001b[39m \u001b[39m10\u001b[39m:\n\u001b[1;32m     55\u001b[0m     iso8601_time \u001b[39m=\u001b[39m iso8601_time\u001b[39m.\u001b[39mljust(\u001b[39m10\u001b[39m, \u001b[39m\"\u001b[39m\u001b[39m0\u001b[39m\u001b[39m\"\u001b[39m)\n\u001b[0;32m---> 57\u001b[0m year \u001b[39m=\u001b[39m \u001b[39mint\u001b[39;49m(iso8601_time[\u001b[39m0\u001b[39;49m:\u001b[39m4\u001b[39;49m])\n\u001b[1;32m     58\u001b[0m month \u001b[39m=\u001b[39m \u001b[39mint\u001b[39m(iso8601_time[\u001b[39m5\u001b[39m:\u001b[39m7\u001b[39m])\n\u001b[1;32m     59\u001b[0m day \u001b[39m=\u001b[39m \u001b[39mint\u001b[39m(iso8601_time[\u001b[39m8\u001b[39m:\u001b[39m10\u001b[39m])\n",
      "\u001b[0;31mValueError\u001b[0m: invalid literal for int() with base 10: 'None'"
     ]
    }
   ],
   "source": [
    "citation = metadata.citation()\n",
    "print(citation)"
   ]
  }
 ],
 "metadata": {
  "kernelspec": {
   "display_name": "Python 3",
   "language": "python",
   "name": "python3"
  },
  "language_info": {
   "codemirror_mode": {
    "name": "ipython",
    "version": 3
   },
   "file_extension": ".py",
   "mimetype": "text/x-python",
   "name": "python",
   "nbconvert_exporter": "python",
   "pygments_lexer": "ipython3",
   "version": "3.9.9"
  },
  "orig_nbformat": 4,
  "vscode": {
   "interpreter": {
    "hash": "737c62f48720453199cecb0c73cf20e643f4c62974b26a046a741d1e92da10e9"
   }
  }
 },
 "nbformat": 4,
 "nbformat_minor": 2
}
