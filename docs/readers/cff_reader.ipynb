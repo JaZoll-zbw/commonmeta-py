{
 "cells": [
  {
   "attachments": {},
   "cell_type": "markdown",
   "metadata": {},
   "source": [
    "# CFF Reader\n",
    "\n",
    "This notebook shows how to read metadata from [Citation File Format (CFF)](https://citation-file-format.github.io/)."
   ]
  },
  {
   "attachments": {},
   "cell_type": "markdown",
   "metadata": {},
   "source": [
    "[Download Notebook](https://github.com/front-matter/commonmeta-py/blob/main/docs/readers/cff_reader.ipynb)"
   ]
  },
  {
   "cell_type": "code",
   "execution_count": 1,
   "metadata": {},
   "outputs": [
    {
     "name": "stdout",
     "output_type": "stream",
     "text": [
      "findable\n"
     ]
    }
   ],
   "source": [
    "from commonmeta import Metadata\n",
    "# Fetch metadata from a GitHub repository that contains a CITATION.cff file\n",
    "string = 'https://github.com/kyleliang919/Long-context-transformers'\n",
    "metadata = Metadata(string)\n",
    "\n",
    "# Check that metadata was fetched successfully\n",
    "print(metadata.state)"
   ]
  },
  {
   "attachments": {},
   "cell_type": "markdown",
   "metadata": {},
   "source": [
    "## Inspect the metadata\n",
    "\n",
    "The following metadata are required for each Crossref resource:\n",
    "\n",
    "* `doi`: the persistent identifier of the resource\n",
    "* `titles`: the title(s) of the resource\n",
    "* `creators`: the creator(s)/author(s) of the resource\n",
    "* `publisher`: the publisher of the resource\n",
    "* `publication_year`: the publication year of the resource\n",
    "* `types`: the type of the resource, as [defined by Crossref](http://api.crossref.org/types) e.g. `journal-article`, `book`, `book-chapter`, `posted-content`. Also mapped to other metadata formats to faciliate metadata conversion.\n",
    "\n",
    "In addition, there are plenty of optional metadata. They are converted into the internal commonmeta format."
   ]
  },
  {
   "cell_type": "code",
   "execution_count": 2,
   "metadata": {},
   "outputs": [
    {
     "name": "stdout",
     "output_type": "stream",
     "text": [
      "{\n",
      "    \"pid\": \"https://doi.org/10.5281/zenodo.7651809\",\n",
      "    \"doi\": \"10.5281/zenodo.7651809\",\n",
      "    \"url\": \"https://github.com/kyleliang919/Long-context-transformers\",\n",
      "    \"creators\": [\n",
      "        {\n",
      "            \"nameType\": \"Personal\",\n",
      "            \"nameIdentifiers\": [\n",
      "                {\n",
      "                    \"nameIdentifier\": \"https://orcid.org/0000-0002-0055-8659\",\n",
      "                    \"nameIdentifierScheme\": \"ORCID\",\n",
      "                    \"schemeUri\": \"https://orcid.org\"\n",
      "                }\n",
      "            ],\n",
      "            \"givenName\": \"Kaizhao\",\n",
      "            \"familyName\": \"Liang\"\n",
      "        }\n",
      "    ],\n",
      "    \"titles\": [\n",
      "        {\n",
      "            \"title\": \"Long Context Transformer v0.0.1\"\n",
      "        }\n",
      "    ],\n",
      "    \"publisher\": \"GitHub\",\n",
      "    \"publicationYear\": 2023,\n",
      "    \"types\": {\n",
      "        \"resourceTypeGeneral\": \"Software\",\n",
      "        \"schemaOrg\": \"SoftwareSourceCode\",\n",
      "        \"citeproc\": \"article-journal\",\n",
      "        \"bibtex\": \"misc\",\n",
      "        \"ris\": \"COMP\"\n",
      "    },\n",
      "    \"dates\": [\n",
      "        {\n",
      "            \"date\": \"2023-02-17\",\n",
      "            \"dateType\": \"Issued\"\n",
      "        }\n",
      "    ],\n",
      "    \"version\": \"0.0.1\"\n",
      "}\n"
     ]
    }
   ],
   "source": [
    "commonmeta = metadata.commonmeta()\n",
    "print(commonmeta)"
   ]
  }
 ],
 "metadata": {
  "kernelspec": {
   "display_name": "Python 3",
   "language": "python",
   "name": "python3"
  },
  "language_info": {
   "codemirror_mode": {
    "name": "ipython",
    "version": 3
   },
   "file_extension": ".py",
   "mimetype": "text/x-python",
   "name": "python",
   "nbconvert_exporter": "python",
   "pygments_lexer": "ipython3",
   "version": "3.9.16"
  },
  "vscode": {
   "interpreter": {
    "hash": "a665b5d41d17b532ea9890333293a1b812fa0b73c9c25c950b3cedf1bebd0438"
   }
  }
 },
 "nbformat": 4,
 "nbformat_minor": 2
}
