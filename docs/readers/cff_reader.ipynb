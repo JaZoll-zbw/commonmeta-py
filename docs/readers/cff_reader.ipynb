{
 "cells": [
  {
   "attachments": {},
   "cell_type": "markdown",
   "metadata": {},
   "source": [
    "# CFF Reader\n",
    "\n",
    "This notebook shows how to read metadata from Citation File Format (CFF)."
   ]
  },
  {
   "attachments": {},
   "cell_type": "markdown",
   "metadata": {},
   "source": [
    "[Download Notebook](https://github.com/front-matter/talbot/blob/main/docs/readers/cff_reader.ipynb)"
   ]
  },
  {
   "cell_type": "code",
   "execution_count": 6,
   "metadata": {},
   "outputs": [
    {
     "name": "stdout",
     "output_type": "stream",
     "text": [
      "None\n",
      "None\n"
     ]
    }
   ],
   "source": [
    "from talbot import Metadata\n",
    "\n",
    "# Fetch metadata from a Crossref DOI\n",
    "string = 'https://github.com/kyleliang919/Long-context-transformers'\n",
    "metadata = Metadata(string)\n",
    "\n",
    "# Check that metadata was fetched successfully\n",
    "print(metadata.state)"
   ]
  }
 ],
 "metadata": {
  "kernelspec": {
   "display_name": "Python 3",
   "language": "python",
   "name": "python3"
  },
  "language_info": {
   "codemirror_mode": {
    "name": "ipython",
    "version": 3
   },
   "file_extension": ".py",
   "mimetype": "text/x-python",
   "name": "python",
   "nbconvert_exporter": "python",
   "pygments_lexer": "ipython3",
   "version": "3.9.9"
  },
  "orig_nbformat": 4,
  "vscode": {
   "interpreter": {
    "hash": "737c62f48720453199cecb0c73cf20e643f4c62974b26a046a741d1e92da10e9"
   }
  }
 },
 "nbformat": 4,
 "nbformat_minor": 2
}
