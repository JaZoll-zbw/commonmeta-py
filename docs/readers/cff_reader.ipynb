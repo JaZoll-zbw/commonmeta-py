{
 "cells": [
  {
   "attachments": {},
   "cell_type": "markdown",
   "metadata": {},
   "source": [
    "# CFF Reader\n",
    "\n",
    "This notebook shows how to read metadata from Citation File Format (CFF)."
   ]
  }
 ],
 "metadata": {
  "kernelspec": {
   "display_name": "Python 3",
   "language": "python",
   "name": "python3"
  },
  "language_info": {
   "name": "python",
   "version": "3.9.9"
  },
  "orig_nbformat": 4,
  "vscode": {
   "interpreter": {
    "hash": "737c62f48720453199cecb0c73cf20e643f4c62974b26a046a741d1e92da10e9"
   }
  }
 },
 "nbformat": 4,
 "nbformat_minor": 2
}
