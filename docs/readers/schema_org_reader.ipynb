{
 "cells": [
  {
   "attachments": {},
   "cell_type": "markdown",
   "metadata": {},
   "source": [
    "# SchemaOrg Reader\n",
    "\n",
    "This notebook shows how to read metadata from Schema.org, using a URL with embedded Schema.org JSON-LD."
   ]
  },
  {
   "attachments": {},
   "cell_type": "markdown",
   "metadata": {},
   "source": [
    "[Download Notebook](https://github.com/front-matter/commonmeta-py/blob/main/docs/readers/schema_org_reader.ipynb)"
   ]
  },
  {
   "cell_type": "code",
   "execution_count": 1,
   "metadata": {},
   "outputs": [
    {
     "name": "stdout",
     "output_type": "stream",
     "text": [
      "[{'nameType': 'Personal', 'givenName': 'Emma', 'familyName': 'Johansson'}, {'nameType': 'Personal', 'givenName': 'Sten', 'familyName': 'Berglund'}, {'nameType': 'Personal', 'givenName': 'Tobias', 'familyName': 'Lindborg'}, {'nameType': 'Personal', 'givenName': 'Johannes', 'familyName': 'Petrone'}, {'nameType': 'Personal', 'givenName': 'Dirk', 'familyName': 'van As'}, {'nameType': 'Personal', 'givenName': 'Lars-Göran', 'familyName': 'Gustafsson'}, {'nameType': 'Personal', 'givenName': 'Jens-Ove', 'familyName': 'Näslund'}, {'nameType': 'Personal', 'givenName': 'Hjalmar', 'familyName': 'Laudon'}]\n",
      "None\n"
     ]
    }
   ],
   "source": [
    "from commonmeta import Metadata\n",
    "\n",
    "# Fetch metadata from a URL pointing to a landing page for a scholary resource\n",
    "string = 'https://doi.pangaea.de/10.1594/PANGAEA.836178'\n",
    "metadata = Metadata(string)\n",
    "\n",
    "# Check that metadata was fetched successfully\n",
    "print(metadata.state)"
   ]
  },
  {
   "attachments": {},
   "cell_type": "markdown",
   "metadata": {},
   "source": [
    "## Inspect the metadata\n",
    "\n",
    "\n",
    "The metadata are optionally embedded in the HTML of the page, using the [JSON-LD](https://json-ld.org/) format. The metadata are embedded in a `<script>` tag with the `type` attribute set to `application/ld+json` They are converted into the internal commonmeta format.\n",
    "\n",
    "* `pid`: the persistent identifier of the resource\n",
    "* `titles`: the title(s) of the resource\n",
    "* `creators`: the creator(s)/author(s) of the resource\n",
    "* `publisher`: the publisher of the resource\n",
    "* `publication_year`: the publication year of the resource\n",
    "* `types`: the type of the resource, as [defined Schema.org](https://schema.org/) as e.g. `ScholarlyArticle`, `Dataset`, `SoftwareSourceCode`, `ImageObject`, `VideoObject`, `Event`, `CreativeWork`, `Collection`, `DataCatalog`, `Report`, `Thesis`, `Service`, or `Review`. Also mapped to other metadata formats to faciliate metadata conversion.\n",
    "\n",
    "In addition, there are plenty of optional metadata. They are converted into the standardized commonmeta format used internally. This format is close to the metadata format used by DataCite."
   ]
  },
  {
   "cell_type": "code",
   "execution_count": 2,
   "metadata": {},
   "outputs": [
    {
     "name": "stdout",
     "output_type": "stream",
     "text": [
      "{\n",
      "    \"pid\": \"https://doi.org/10.1594/pangaea.836178\",\n",
      "    \"doi\": \"10.1594/pangaea.836178\",\n",
      "    \"url\": \"https://doi.pangaea.de/10.1594/PANGAEA.836178\",\n",
      "    \"creators\": [\n",
      "        {\n",
      "            \"nameType\": \"Personal\",\n",
      "            \"givenName\": \"Emma\",\n",
      "            \"familyName\": \"Johansson\"\n",
      "        },\n",
      "        {\n",
      "            \"nameType\": \"Personal\",\n",
      "            \"givenName\": \"Sten\",\n",
      "            \"familyName\": \"Berglund\"\n",
      "        },\n",
      "        {\n",
      "            \"nameType\": \"Personal\",\n",
      "            \"givenName\": \"Tobias\",\n",
      "            \"familyName\": \"Lindborg\"\n",
      "        },\n",
      "        {\n",
      "            \"nameType\": \"Personal\",\n",
      "            \"givenName\": \"Johannes\",\n",
      "            \"familyName\": \"Petrone\"\n",
      "        },\n",
      "        {\n",
      "            \"nameType\": \"Personal\",\n",
      "            \"givenName\": \"Dirk\",\n",
      "            \"familyName\": \"van As\"\n",
      "        },\n",
      "        {\n",
      "            \"nameType\": \"Personal\",\n",
      "            \"givenName\": \"Lars-G\\u00f6ran\",\n",
      "            \"familyName\": \"Gustafsson\"\n",
      "        },\n",
      "        {\n",
      "            \"nameType\": \"Personal\",\n",
      "            \"givenName\": \"Jens-Ove\",\n",
      "            \"familyName\": \"N\\u00e4slund\"\n",
      "        },\n",
      "        {\n",
      "            \"nameType\": \"Personal\",\n",
      "            \"givenName\": \"Hjalmar\",\n",
      "            \"familyName\": \"Laudon\"\n",
      "        }\n",
      "    ],\n",
      "    \"titles\": [\n",
      "        {\n",
      "            \"title\": \"Hydrological and meteorological investigations in a lake near Kangerlussuaq, west Greenland\"\n",
      "        }\n",
      "    ],\n",
      "    \"publisher\": \"PANGAEA\",\n",
      "    \"publicationYear\": 2014,\n",
      "    \"types\": {\n",
      "        \"resourceTypeGeneral\": \"Dataset\",\n",
      "        \"schemaOrg\": \"Dataset\",\n",
      "        \"citeproc\": \"dataset\",\n",
      "        \"bibtex\": \"misc\",\n",
      "        \"ris\": \"DATA\"\n",
      "    },\n",
      "    \"dates\": [\n",
      "        {\n",
      "            \"date\": \"2014-09-25\",\n",
      "            \"dateType\": \"Issued\"\n",
      "        }\n",
      "    ],\n",
      "    \"language\": \"en\",\n",
      "    \"rights\": [\n",
      "        {\n",
      "            \"rights\": \"Creative Commons Attribution 3.0 Unported\",\n",
      "            \"rightsUri\": \"https://creativecommons.org/licenses/by/3.0/legalcode\",\n",
      "            \"rightsIdentifier\": \"cc-by-3.0\",\n",
      "            \"rightsIdentifierScheme\": \"SPDX\",\n",
      "            \"schemeUri\": \"https://spdx.org/licenses/\"\n",
      "        }\n",
      "    ],\n",
      "    \"descriptions\": [\n",
      "        {\n",
      "            \"description\": \"Few hydrological studies have been made in Greenland, other than on glacial hydrology associated with the ice sheet. Understanding permafrost hydrology and hydroclimatic change and variability, however, provides key information for understanding climate change effects and feedbacks in the Arctic landscape. This paper presents a new extensive and detailed hydrological and meteorological open access dataset, with high temporal resolution from a 1.56 km**2 permafrost catchment with a lake underlain by a through talik close to the ice sheet in the Kangerlussuaq region, western Greenland. The paper describes the hydrological site investigations and utilized equipment, as well as the data collection and processing. The investigations were performed between 2010 and 2013. The high spatial resolution, within the investigated area, of the dataset makes it highly suitable for various detailed hydrological and ecological studies on catchment scale.\",\n",
      "            \"descriptionType\": \"Abstract\"\n",
      "        }\n",
      "    ],\n",
      "    \"geoLocations\": [\n",
      "        {\n",
      "            \"geoLocationPoint\": {\n",
      "                \"pointLongitude\": -50.18037,\n",
      "                \"pointLatitude\": 67.12594\n",
      "            }\n",
      "        }\n",
      "    ]\n",
      "}\n"
     ]
    }
   ],
   "source": [
    "commonmeta = metadata.commonmeta()\n",
    "print(commonmeta)"
   ]
  },
  {
   "attachments": {},
   "cell_type": "markdown",
   "metadata": {},
   "source": [
    "## Enhance the metadata with HTML meta tags\n",
    "\n",
    "The metadata are enhanced with the following HTML meta tags: `citation_doi`, `citation_author`, `citation_title`, `citation_publisher`, `citation_publication_date`, `citation_keywords`, `citation_language`, `citation_issn`. These tags are recommended by [Google Scholar](https://scholar.google.com/intl/en/scholar/inclusion.html#indexing) and widely used by publishers and repositories. Below is an example with embedded HTML meta tags not using Schema.org:"
   ]
  },
  {
   "cell_type": "code",
   "execution_count": 3,
   "metadata": {},
   "outputs": [
    {
     "name": "stdout",
     "output_type": "stream",
     "text": [
      "[{'nameType': 'Personal', 'givenName': 'Maria Martha', 'familyName': 'Gerdes'}]\n",
      "10.17176/20221210-001644-0\n",
      "[{'title': 'Einbürgerung und Ausbürgerung: Warum die Staatsangehörigkeitsrechtsreform nicht ohne Ausbürgerungsrechtsreform funktioniert'}]\n",
      "[{'nameType': 'Personal', 'givenName': 'Maria Martha', 'familyName': 'Gerdes'}]\n",
      "Verfassungsblog\n",
      "2022\n",
      "{'resourceTypeGeneral': 'Preprint', 'schemaOrg': 'Article', 'citeproc': 'article-newspaper', 'bibtex': 'article', 'ris': 'GEN'}\n"
     ]
    }
   ],
   "source": [
    "url = 'https://verfassungsblog.de/einburgerung-und-ausburgerung'\n",
    "metadata = Metadata(url)\n",
    "\n",
    "print(metadata.doi)\n",
    "print(metadata.titles)\n",
    "print(metadata.creators)\n",
    "print(metadata.publisher)\n",
    "print(metadata.publication_year)\n",
    "print(metadata.types)"
   ]
  }
 ],
 "metadata": {
  "kernelspec": {
   "display_name": "Python 3",
   "language": "python",
   "name": "python3"
  },
  "language_info": {
   "codemirror_mode": {
    "name": "ipython",
    "version": 3
   },
   "file_extension": ".py",
   "mimetype": "text/x-python",
   "name": "python",
   "nbconvert_exporter": "python",
   "pygments_lexer": "ipython3",
   "version": "3.9.16"
  },
  "orig_nbformat": 4,
  "vscode": {
   "interpreter": {
    "hash": "a665b5d41d17b532ea9890333293a1b812fa0b73c9c25c950b3cedf1bebd0438"
   }
  }
 },
 "nbformat": 4,
 "nbformat_minor": 2
}
