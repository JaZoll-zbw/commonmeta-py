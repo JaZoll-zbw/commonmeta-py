{
 "cells": [
  {
   "attachments": {},
   "cell_type": "markdown",
   "metadata": {},
   "source": [
    "# SchemaOrg Reader\n",
    "\n",
    "This notebook shows how to read metadata from Schema.org, using a URL with embedded Schema.org JSON-LD."
   ]
  },
  {
   "attachments": {},
   "cell_type": "markdown",
   "metadata": {},
   "source": [
    "[Download Notebook](https://github.com/front-matter/commonmeta-py/blob/main/docs/readers/schema_org_reader.ipynb)"
   ]
  },
  {
   "cell_type": "code",
   "execution_count": 2,
   "metadata": {},
   "outputs": [
    {
     "ename": "ModuleNotFoundError",
     "evalue": "No module named 'talbot'",
     "output_type": "error",
     "traceback": [
      "\u001b[0;31m---------------------------------------------------------------------------\u001b[0m",
      "\u001b[0;31mModuleNotFoundError\u001b[0m                       Traceback (most recent call last)",
      "Cell \u001b[0;32mIn[2], line 1\u001b[0m\n\u001b[0;32m----> 1\u001b[0m \u001b[39mfrom\u001b[39;00m \u001b[39mtalbot\u001b[39;00m \u001b[39mimport\u001b[39;00m Metadata\n\u001b[1;32m      3\u001b[0m \u001b[39m# Fetch metadata from a URL pointing to a landing page for a scholary resource\u001b[39;00m\n\u001b[1;32m      4\u001b[0m string \u001b[39m=\u001b[39m \u001b[39m'\u001b[39m\u001b[39mhttps://doi.pangaea.de/10.1594/PANGAEA.836178\u001b[39m\u001b[39m'\u001b[39m\n",
      "\u001b[0;31mModuleNotFoundError\u001b[0m: No module named 'talbot'"
     ]
    }
   ],
   "source": [
    "from commonmeta import Metadata\n",
    "\n",
    "# Fetch metadata from a URL pointing to a landing page for a scholary resource\n",
    "string = 'https://doi.pangaea.de/10.1594/PANGAEA.836178'\n",
    "metadata = Metadata(string)\n",
    "\n",
    "# Check that metadata was fetched successfully\n",
    "print(metadata.state)"
   ]
  },
  {
   "attachments": {},
   "cell_type": "markdown",
   "metadata": {},
   "source": [
    "## Inspect the metadata\n",
    "\n",
    "\n",
    "The metadata are optionally embedded in the HTML of the page, using the [JSON-LD](https://json-ld.org/) format. The metadata are embedded in a `<script>` tag with the `type` attribute set to `application/ld+json` They are converted into the internal commonmeta format.\n",
    "\n",
    "* `pid`: the persistent identifier of the resource\n",
    "* `titles`: the title(s) of the resource\n",
    "* `creators`: the creator(s)/author(s) of the resource\n",
    "* `publisher`: the publisher of the resource\n",
    "* `publication_year`: the publication year of the resource\n",
    "* `types`: the type of the resource, as [defined Schema.org](https://schema.org/) as e.g. `ScholarlyArticle`, `Dataset`, `SoftwareSourceCode`, `ImageObject`, `VideoObject`, `Event`, `CreativeWork`, `Collection`, `DataCatalog`, `Report`, `Thesis`, `Service`, or `Review`. Also mapped to other metadata formats to faciliate metadata conversion."
   ]
  },
  {
   "cell_type": "code",
   "execution_count": null,
   "metadata": {},
   "outputs": [
    {
     "name": "stdout",
     "output_type": "stream",
     "text": [
      "https://doi.org/10.1594/pangaea.836178\n",
      "[{'title': 'Hydrological and meteorological investigations in a lake near Kangerlussuaq, west Greenland'}]\n",
      "[{'nameType': 'Personal', 'givenName': 'Emma', 'familyName': 'Johansson'}, {'nameType': 'Personal', 'givenName': 'Sten', 'familyName': 'Berglund'}, {'nameType': 'Personal', 'givenName': 'Tobias', 'familyName': 'Lindborg'}, {'nameType': 'Personal', 'givenName': 'Johannes', 'familyName': 'Petrone'}, {'nameType': 'Personal', 'givenName': 'Dirk', 'familyName': 'van As'}, {'nameType': 'Personal', 'givenName': 'Lars-Göran', 'familyName': 'Gustafsson'}, {'nameType': 'Personal', 'givenName': 'Jens-Ove', 'familyName': 'Näslund'}, {'nameType': 'Personal', 'givenName': 'Hjalmar', 'familyName': 'Laudon'}]\n",
      "PANGAEA\n",
      "2014\n",
      "{'resourceTypeGeneral': 'Dataset', 'schemaOrg': 'Dataset', 'citeproc': 'dataset', 'bibtex': 'misc', 'ris': 'DATA'}\n"
     ]
    }
   ],
   "source": [
    "print(metadata.pid)\n",
    "print(metadata.titles)\n",
    "print(metadata.creators)\n",
    "print(metadata.publisher)\n",
    "print(metadata.publication_year)\n",
    "print(metadata.types)"
   ]
  },
  {
   "attachments": {},
   "cell_type": "markdown",
   "metadata": {},
   "source": [
    "## Enhance the metadata with HTML meta tags\n",
    "\n",
    "The metadata are enhanced with the following HTML meta tags: `citation_doi`, `citation_author`, `citation_title`, `citation_publisher`, `citation_publication_date`, `citation_keywords`, `citation_language`, `citation_issn`. These tags are recommended by [Google Scholar](https://scholar.google.com/intl/en/scholar/inclusion.html#indexing) and widely used by publishers and repositories. Below is an example with embedded HTML meta tags not using Schema.org:"
   ]
  },
  {
   "cell_type": "code",
   "execution_count": null,
   "metadata": {},
   "outputs": [
    {
     "name": "stdout",
     "output_type": "stream",
     "text": [
      "[{'nameType': 'Personal', 'givenName': 'Maria Martha', 'familyName': 'Gerdes'}]\n",
      "10.17176/20221210-001644-0\n",
      "[{'title': 'Einbürgerung und Ausbürgerung: Warum die Staatsangehörigkeitsrechtsreform nicht ohne Ausbürgerungsrechtsreform funktioniert'}]\n",
      "[{'nameType': 'Personal', 'givenName': 'Maria Martha', 'familyName': 'Gerdes'}]\n",
      "Verfassungsblog\n",
      "2022\n",
      "{'resourceTypeGeneral': 'Preprint', 'schemaOrg': 'Article', 'citeproc': 'article-newspaper', 'bibtex': 'article', 'ris': 'GEN'}\n"
     ]
    }
   ],
   "source": [
    "url = 'https://verfassungsblog.de/einburgerung-und-ausburgerung'\n",
    "metadata = Metadata(url)\n",
    "\n",
    "print(metadata.doi)\n",
    "print(metadata.titles)\n",
    "print(metadata.creators)\n",
    "print(metadata.publisher)\n",
    "print(metadata.publication_year)\n",
    "print(metadata.types)"
   ]
  }
 ],
 "metadata": {
  "kernelspec": {
   "display_name": "Python 3",
   "language": "python",
   "name": "python3"
  },
  "language_info": {
   "codemirror_mode": {
    "name": "ipython",
    "version": 3
   },
   "file_extension": ".py",
   "mimetype": "text/x-python",
   "name": "python",
   "nbconvert_exporter": "python",
   "pygments_lexer": "ipython3",
   "version": "3.9.6"
  },
  "orig_nbformat": 4,
  "vscode": {
   "interpreter": {
    "hash": "31f2aee4e71d21fbe5cf8b01ff0e069b9275f58929596ceb00d14d90e3e16cd6"
   }
  }
 },
 "nbformat": 4,
 "nbformat_minor": 2
}
