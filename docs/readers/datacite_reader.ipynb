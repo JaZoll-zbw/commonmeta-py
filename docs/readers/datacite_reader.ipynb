{
 "cells": [
  {
   "attachments": {},
   "cell_type": "markdown",
   "metadata": {},
   "source": [
    "# DataCite Reader\n",
    "\n",
    "This notebook shows how to read metadata from DataCite, using a DataCite DOI."
   ]
  },
  {
   "attachments": {},
   "cell_type": "markdown",
   "metadata": {},
   "source": [
    "[Download Notebook](https://github.com/front-matter/commonmeta-py/blob/main/docs/readers/datacite_reader.ipynb)"
   ]
  },
  {
   "cell_type": "code",
   "execution_count": 1,
   "metadata": {},
   "outputs": [
    {
     "name": "stdout",
     "output_type": "stream",
     "text": [
      "findable\n"
     ]
    }
   ],
   "source": [
    "from commonmeta import Metadata\n",
    "\n",
    "# Fetch metadata from a DataCite DOI\n",
    "string = 'https://doi.org/10.5061/dryad.8515'\n",
    "metadata = Metadata(string)\n",
    "\n",
    "# Check that metadata was fetched successfully\n",
    "print(metadata.state)"
   ]
  },
  {
   "attachments": {},
   "cell_type": "markdown",
   "metadata": {},
   "source": [
    "## Inspect the metadata\n",
    "\n",
    "The following metadata are required for each DataCite resource:\n",
    "\n",
    "* `doi`: the persistent identifier of the resource\n",
    "* `titles`: the title(s) of the resource\n",
    "* `creators`: the creator(s)/author(s) of the resource\n",
    "* `publisher`: the publisher of the resource\n",
    "* `publication_year`: the publication year of the resource\n",
    "* `types`: the type of the resource, as [defined by DataCite](https://support.datacite.org/docs/what-are-the-resource-types-for-datacite-dois) as `ResourceTypeGeneral` e.g. `Dataset`, `Software`, \n",
    "`Image`, `Text`, `Audiovisual`, `Collection`, `Event`, `InteractiveResource`, `Model`, `PhysicalObject`, `Service`, `Software`, `Sound`, `Workflow`, `Other`. Also mapped to other metadata formats to faciliate metadata conversion."
   ]
  },
  {
   "cell_type": "code",
   "execution_count": 2,
   "metadata": {},
   "outputs": [
    {
     "name": "stdout",
     "output_type": "stream",
     "text": [
      "10.5061/dryad.8515\n",
      "[{'title': 'Data from: A new malaria agent in African hominids.'}]\n",
      "[{'nameType': 'Personal', 'givenName': 'Benjamin', 'familyName': 'Ollomo', 'affiliation': [{'name': 'Centre International de Recherches Médicales de Franceville'}]}, {'nameType': 'Personal', 'givenName': 'Patrick', 'familyName': 'Durand', 'affiliation': [{'name': 'French National Centre for Scientific Research'}]}, {'nameType': 'Personal', 'givenName': 'Franck', 'familyName': 'Prugnolle', 'affiliation': [{'name': 'French National Centre for Scientific Research'}]}, {'nameType': 'Personal', 'givenName': 'Emmanuel J. P.', 'familyName': 'Douzery'}, {'nameType': 'Personal', 'givenName': 'Céline', 'familyName': 'Arnathau', 'affiliation': [{'name': 'French National Centre for Scientific Research'}]}, {'nameType': 'Personal', 'givenName': 'Dieudonné', 'familyName': 'Nkoghe', 'affiliation': [{'name': 'Centre International de Recherches Médicales de Franceville'}]}, {'nameType': 'Personal', 'givenName': 'Eric', 'familyName': 'Leroy', 'affiliation': [{'name': 'Centre International de Recherches Médicales de Franceville'}]}, {'nameType': 'Personal', 'givenName': 'François', 'familyName': 'Renaud', 'affiliation': [{'name': 'French National Centre for Scientific Research'}]}]\n",
      "Dryad\n",
      "2011\n",
      "{'resourceTypeGeneral': 'Dataset', 'resourceType': 'dataset', 'schemaOrg': 'Dataset', 'citeproc': 'dataset', 'bibtex': 'misc', 'ris': 'DATA'}\n"
     ]
    }
   ],
   "source": [
    "print(metadata.doi)\n",
    "print(metadata.titles)\n",
    "print(metadata.creators)\n",
    "print(metadata.publisher)\n",
    "print(metadata.publication_year)\n",
    "print(metadata.types)"
   ]
  },
  {
   "attachments": {},
   "cell_type": "markdown",
   "metadata": {},
   "source": [
    "In addition, there are plenty of optional metadata. They are converted into the standardized commonmeta format used internally. This format is close to the metadata format used by DataCite."
   ]
  }
 ],
 "metadata": {
  "kernelspec": {
   "display_name": "Python 3",
   "language": "python",
   "name": "python3"
  },
  "language_info": {
   "codemirror_mode": {
    "name": "ipython",
    "version": 3
   },
   "file_extension": ".py",
   "mimetype": "text/x-python",
   "name": "python",
   "nbconvert_exporter": "python",
   "pygments_lexer": "ipython3",
   "version": "3.9.9"
  },
  "orig_nbformat": 4,
  "vscode": {
   "interpreter": {
    "hash": "737c62f48720453199cecb0c73cf20e643f4c62974b26a046a741d1e92da10e9"
   }
  }
 },
 "nbformat": 4,
 "nbformat_minor": 2
}
