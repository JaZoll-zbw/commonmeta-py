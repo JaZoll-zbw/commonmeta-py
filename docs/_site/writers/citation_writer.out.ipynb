{
  "cells": [
    {
      "cell_type": "markdown",
      "metadata": {},
      "source": [
        "# Citation Writer\n",
        "\n",
        "## Fetch metadata\n",
        "\n",
        "As with all commonmeta-py notebooks, we start by fetching metadata, in\n",
        "this example a journal article via its Crossref DOI, an then convert\n",
        "them to the internal commonmeta format."
      ],
      "id": "496d32ec-b807-43ea-b647-a26178150795"
    },
    {
      "cell_type": "code",
      "execution_count": 11,
      "metadata": {},
      "outputs": [
        {
          "output_type": "stream",
          "name": "stdout",
          "text": [
            "findable"
          ]
        }
      ],
      "source": [
        "from commonmeta import Metadata\n",
        "\n",
        "# Fetch metadata from a DOI\n",
        "string = '10.7554/elife.01567'\n",
        "metadata = Metadata(string)\n",
        "\n",
        "# Check that metadata was fetched successfully\n",
        "print(metadata.state)"
      ],
      "id": "35248b4a"
    },
    {
      "cell_type": "markdown",
      "metadata": {},
      "source": [
        "## Generate a formatted citation\n",
        "\n",
        "Using the `citation` writer, commonmeta-py can generate a formatted\n",
        "citation for the resource, using one of the citation styles defined in\n",
        "the [Citation Style\n",
        "Language](https://github.com/citation-style-language/styles). The\n",
        "default style is `apa`, which is the American Psychological Association\n",
        "7th Edition style. The style is not only very popular and\n",
        "well-documented, but is one of only a few styles that has specific\n",
        "support for special content types, such as `dataset` and `software`. And\n",
        "unlike many other styles, it includes the DOI expressed as URL in the\n",
        "citation.\n",
        "\n",
        "### Journal article"
      ],
      "id": "4abfc717-2d3c-4aa7-951e-b636539d574d"
    },
    {
      "cell_type": "code",
      "execution_count": 12,
      "metadata": {},
      "outputs": [
        {
          "output_type": "stream",
          "name": "stdout",
          "text": [
            "Sankar, M., Nieminen, K., Ragni, L., Xenarios, I., &amp; Hardtke, C. S. (2014). Automated quantitative histology reveals vascular morphodynamics during Arabidopsis hypocotyl secondary growth. <i>Elife</i>, <i>3</i>. https://doi.org/10.7554/elife.01567"
          ]
        }
      ],
      "source": [
        "citation = metadata.citation()\n",
        "print(citation)"
      ],
      "id": "0e35c7d1"
    },
    {
      "cell_type": "markdown",
      "metadata": {},
      "source": [
        "### Conference proceedings"
      ],
      "id": "b3c1d773-27c7-4693-b5af-043c26cc978f"
    },
    {
      "cell_type": "code",
      "execution_count": 13,
      "metadata": {},
      "outputs": [
        {
          "output_type": "stream",
          "name": "stdout",
          "text": [
            "Sinop, A. K., &amp; Grady, L. (2007). A Seeded Image Segmentation Framework Unifying Graph Cuts And Random Walker Which Yields A New Algorithm. In <i>2007 IEEE 11th International Conference on Computer Vision</i>. Institute of Electrical and Electronics Engineers (IEEE). https://doi.org/10.1109/iccv.2007.4408927"
          ]
        }
      ],
      "source": [
        "metadata = Metadata('10.1109/iccv.2007.4408927')\n",
        "citation = metadata.citation()\n",
        "print(citation)"
      ],
      "id": "23f2db36"
    },
    {
      "cell_type": "markdown",
      "metadata": {},
      "source": [
        "### Book chapter"
      ],
      "id": "4c239725-9230-4125-9194-3731e942f41b"
    },
    {
      "cell_type": "code",
      "execution_count": 14,
      "metadata": {},
      "outputs": [],
      "source": [
        "metadata = Metadata('10.1007/978-3-642-33191-6_49')\n",
        "citation = metadata.citation()\n",
        "print(citation)"
      ],
      "id": "5eef51fe"
    },
    {
      "cell_type": "markdown",
      "metadata": {},
      "source": [
        "### Dataset"
      ],
      "id": "38d9cf4f-4bf0-4231-8c7b-9e0e31cfaed1"
    },
    {
      "cell_type": "code",
      "execution_count": null,
      "metadata": {},
      "outputs": [
        {
          "output_type": "stream",
          "name": "stdout",
          "text": [
            "Ollomo, B., Durand, P., Prugnolle, F., Douzery, E. J. P., Arnathau, C., Nkoghe, D., Leroy, E., &amp; Renaud, F. (2011). <i>Data from: A new malaria agent in African hominids.</i> (Version 1) [Data set]. Dryad. https://doi.org/10.5061/dryad.8515"
          ]
        }
      ],
      "source": [
        "metadata = Metadata('10.5061/dryad.8515')\n",
        "citation = metadata.citation()\n",
        "print(citation)"
      ],
      "id": "8b43ad16"
    },
    {
      "cell_type": "markdown",
      "metadata": {},
      "source": [
        "### Software"
      ],
      "id": "8c9db88a-3cf7-4464-a020-08d7570b0826"
    },
    {
      "cell_type": "code",
      "execution_count": null,
      "metadata": {},
      "outputs": [
        {
          "output_type": "stream",
          "name": "stdout",
          "text": [
            "Garza, K. (2016). <i>Analysis Tools for Crossover Experiment of UI using Choice Architecture</i> (v1.0) [Computer software]. Zenodo. https://doi.org/10.5281/zenodo.48440"
          ]
        }
      ],
      "source": [
        "# TODO properly handle software type\n",
        "metadata = Metadata('10.5281/zenodo.48440')\n",
        "citation = metadata.citation()\n",
        "print(citation)"
      ],
      "id": "6f52aa82"
    },
    {
      "cell_type": "markdown",
      "metadata": {},
      "source": [
        "## Popular Citation Styles\n",
        "\n",
        "Let’s try out a few popular citation styles:"
      ],
      "id": "ddcb1be1-aeaa-494a-b3a0-a5701b2e1572"
    },
    {
      "cell_type": "code",
      "execution_count": 15,
      "metadata": {},
      "outputs": [],
      "source": [
        "# let fetch the original metadata again\n",
        "metadata = Metadata('10.7554/elife.01567')"
      ],
      "id": "7945d349"
    },
    {
      "cell_type": "markdown",
      "metadata": {},
      "source": [
        "### American Psychological Association 7th Edition (default)"
      ],
      "id": "5d51914e-e95d-49f7-8b6f-ed4c10d42032"
    },
    {
      "cell_type": "code",
      "execution_count": null,
      "metadata": {},
      "outputs": [],
      "source": [
        "citation = metadata.citation()\n",
        "print(citation)"
      ],
      "id": "cell-17"
    },
    {
      "cell_type": "markdown",
      "metadata": {},
      "source": [
        "### American Medical Association (AMA)"
      ],
      "id": "c245a814-59d4-4182-b73e-11dd1864125d"
    },
    {
      "cell_type": "code",
      "execution_count": null,
      "metadata": {},
      "outputs": [],
      "source": [
        "\n",
        "metadata.style = 'american-medical-association'\n",
        "citation = metadata.citation()\n",
        "print(citation)"
      ],
      "id": "cell-19"
    },
    {
      "cell_type": "markdown",
      "metadata": {},
      "source": [
        "### IEEE"
      ],
      "id": "5ec2faa1-8fa1-4132-acf7-c5b64beb74be"
    },
    {
      "cell_type": "code",
      "execution_count": null,
      "metadata": {},
      "outputs": [
        {
          "output_type": "stream",
          "name": "stdout",
          "text": [
            "[1]M. Sankar, K. Nieminen, L. Ragni, I. Xenariosand C. S. Hardtke, “Automated quantitative histology reveals vascular morphodynamics during Arabidopsis hypocotyl secondary growth”, <i>eLife</i>, vol. 3, Feb. 2014, doi: 10.7554/elife.01567."
          ]
        }
      ],
      "source": [
        "metadata.style = 'ieee'\n",
        "citation = metadata.citation()\n",
        "print(citation)"
      ],
      "id": "f6388908"
    },
    {
      "cell_type": "markdown",
      "metadata": {},
      "source": [
        "### Chicago Manual of Style 17th Edition (author-date)"
      ],
      "id": "1e09954e-37c6-4f05-b59f-482c894515b6"
    },
    {
      "cell_type": "code",
      "execution_count": null,
      "metadata": {},
      "outputs": [
        {
          "output_type": "stream",
          "name": "stdout",
          "text": [
            "Sankar, Martial, Kaisa Nieminen, Laura Ragni, Ioannis Xenarios, and Christian S Hardtke. 2014. “Automated Quantitative Histology Reveals Vascular Morphodynamics During Arabidopsis Hypocotyl Secondary Growth”. <i>Elife</i> 3 (February). https://doi.org/10.7554/elife.01567."
          ]
        }
      ],
      "source": [
        "metadata.style = 'chicago-author-date'\n",
        "citation = metadata.citation()\n",
        "print(citation)"
      ],
      "id": "2f10dc4f"
    },
    {
      "cell_type": "markdown",
      "metadata": {},
      "source": [
        "## Citation Locales\n",
        "\n",
        "The other option in the citation writer is the *locale*, which is the\n",
        "language in which the citation is written (words like dates, not the\n",
        "metadata that comes from Crossref). The default locale is `en-US`, we\n",
        "use `es-ES` here. The locales are defined in the [Citation Style\n",
        "Language\n",
        "repository](https://github.com/citation-style-language/locales). I am\n",
        "using an example from Crossref where the metadata are also in Spanish."
      ],
      "id": "517f23ea-1e4f-475e-abf9-8a40115a9f28"
    },
    {
      "cell_type": "code",
      "execution_count": null,
      "metadata": {},
      "outputs": [
        {
          "output_type": "stream",
          "name": "stdout",
          "text": [
            "Laborde, F. <i>Biografía De Juan Bautista Alberdi</i>. Fundacion Ignacio Larramendi, 2010, doi:10.18558/fil026."
          ]
        }
      ],
      "source": [
        "metadata = Metadata(\"10.18558/fil026\")\n",
        "metadata.locale = 'es-ES'\n",
        "metadata.style = 'modern-language-association'\n",
        "citation = metadata.citation()\n",
        "print(citation)"
      ],
      "id": "fd476a35"
    }
  ],
  "nbformat": 4,
  "nbformat_minor": 5,
  "metadata": {
    "kernelspec": {
      "name": "python3",
      "display_name": "Python 3",
      "language": "python"
    },
    "language_info": {
      "name": "python",
      "codemirror_mode": {
        "name": "ipython",
        "version": "3"
      },
      "file_extension": ".py",
      "mimetype": "text/x-python",
      "nbconvert_exporter": "python",
      "pygments_lexer": "ipython3",
      "version": "3.9.1"
    },
    "vscode": {
      "interpreter": {
        "hash": "a665b5d41d17b532ea9890333293a1b812fa0b73c9c25c950b3cedf1bebd0438"
      }
    }
  }
}